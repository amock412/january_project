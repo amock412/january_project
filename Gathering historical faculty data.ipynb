{
 "cells": [
  {
   "cell_type": "markdown",
   "metadata": {},
   "source": [
    "# Gathering past faculty information\n",
    "\n",
    "Author: Andrea Mock\n",
    "\n",
    "Having gathered faculty information for the current academic year (2020-2021) we are also interested in the faculty information from the past. One way to extract past data is to use the help of the web archives, a site that allows you to retrieve previous versions of a website. With the help of the web archives we can scrape previous versions of the faculty roster page and in a subsequent analyze the data for different years. "
   ]
  },
  {
   "cell_type": "markdown",
   "metadata": {},
   "source": [
    "## 1. Extracting faculty data for the 2019-2020 academic year"
   ]
  },
  {
   "cell_type": "code",
   "execution_count": 1,
   "metadata": {},
   "outputs": [],
   "source": [
    "import pandas as pd\n",
    "from collections import Counter\n",
    "\n",
    "# import for plotting later\n",
    "from matplotlib import pyplot as plt\n",
    "plt.style.use('fivethirtyeight')"
   ]
  },
  {
   "cell_type": "code",
   "execution_count": 2,
   "metadata": {},
   "outputs": [],
   "source": [
    "#import chrome webdriver\n",
    "from selenium import webdriver\n",
    "from webdriver_manager.chrome import ChromeDriverManager"
   ]
  },
  {
   "cell_type": "code",
   "execution_count": 3,
   "metadata": {},
   "outputs": [
    {
     "name": "stderr",
     "output_type": "stream",
     "text": [
      "[WDM] - Current google-chrome version is 88.0.4324\n",
      "[WDM] - Get LATEST driver version for 88.0.4324\n"
     ]
    },
    {
     "name": "stdout",
     "output_type": "stream",
     "text": [
      " \n"
     ]
    },
    {
     "name": "stderr",
     "output_type": "stream",
     "text": [
      "[WDM] - Get LATEST driver version for 88.0.4324\n",
      "[WDM] - Trying to download new driver from http://chromedriver.storage.googleapis.com/88.0.4324.96/chromedriver_mac64.zip\n",
      "[WDM] - Driver has been saved in cache [/Users/andreamock/.wdm/drivers/chromedriver/mac64/88.0.4324.96]\n"
     ]
    }
   ],
   "source": [
    "browser = webdriver.Chrome(ChromeDriverManager().install())\n",
    "browser.get('https://web.archive.org/web/20200420232345/https://www.wellesley.edu/provost/facultyroster')"
   ]
  },
  {
   "cell_type": "code",
   "execution_count": 4,
   "metadata": {},
   "outputs": [],
   "source": [
    "profs = browser.find_elements_by_xpath('//div[@class=\"field-item even\"]')[0]"
   ]
  },
  {
   "cell_type": "code",
   "execution_count": 15,
   "metadata": {},
   "outputs": [],
   "source": [
    "# extracting relevant p elements \n",
    "profInfo = profs.find_elements_by_xpath('//p')[2:452]"
   ]
  },
  {
   "cell_type": "code",
   "execution_count": 16,
   "metadata": {},
   "outputs": [
    {
     "data": {
      "text/plain": [
       "'Zitnick, Dan\\nLecturer in Middle Eastern Studies\\nB.A., M.A., University of Michigan'"
      ]
     },
     "execution_count": 16,
     "metadata": {},
     "output_type": "execute_result"
    }
   ],
   "source": [
    "# look at the information for one professor\n",
    "profInfo[-1].text"
   ]
  },
  {
   "cell_type": "code",
   "execution_count": 137,
   "metadata": {},
   "outputs": [],
   "source": [
    "# restructure all data entries\n",
    "def restructureData(data):\n",
    "    allInstructors = []\n",
    "    for person in data:\n",
    "        info = person.text.split('\\n')\n",
    "        if len(info) == 7: # special case when p element contains two people\n",
    "            info1 = info[4:6] +[None,None] + [info[-1]]\n",
    "            allInstructors.append(info1)\n",
    "            info = info[:2] +[None,None] + [info[2]]\n",
    "        if len(info) == 3: \n",
    "            info = info[:2] +[None,None] + [info[-1]]\n",
    "        elif len(info) == 2:\n",
    "            if \"B.F.A.\" in info[1]: # special case of person just having university info and no title\n",
    "                info = [info[0]] + [None, None, None] + [info[-1]]\n",
    "            else:\n",
    "                info = info[:2] + [None, None, None]\n",
    "        elif len(info) == 4:\n",
    "            if 'University' in info[2]:\n",
    "                info = info[:2] + [None, None] + [''.join([info[2],info[-1]])]\n",
    "            else:\n",
    "                info = info[:3] + [None] + [info[-1]]\n",
    "        allInstructors.append(info)\n",
    "    return allInstructors"
   ]
  },
  {
   "cell_type": "code",
   "execution_count": 22,
   "metadata": {},
   "outputs": [],
   "source": [
    "# create dataframe with professor information\n",
    "prof_df2019 = pd.DataFrame(restructureData(profInfo))\n",
    "prof_df2019.columns = ['name', 'title', 'title2', 'title3', 'education']"
   ]
  },
  {
   "cell_type": "code",
   "execution_count": 23,
   "metadata": {},
   "outputs": [
    {
     "data": {
      "text/html": [
       "<div>\n",
       "<style scoped>\n",
       "    .dataframe tbody tr th:only-of-type {\n",
       "        vertical-align: middle;\n",
       "    }\n",
       "\n",
       "    .dataframe tbody tr th {\n",
       "        vertical-align: top;\n",
       "    }\n",
       "\n",
       "    .dataframe thead th {\n",
       "        text-align: right;\n",
       "    }\n",
       "</style>\n",
       "<table border=\"1\" class=\"dataframe\">\n",
       "  <thead>\n",
       "    <tr style=\"text-align: right;\">\n",
       "      <th></th>\n",
       "      <th>name</th>\n",
       "      <th>title</th>\n",
       "      <th>title2</th>\n",
       "      <th>title3</th>\n",
       "      <th>education</th>\n",
       "    </tr>\n",
       "  </thead>\n",
       "  <tbody>\n",
       "    <tr>\n",
       "      <th>0</th>\n",
       "      <td>Aadnani, Rachid</td>\n",
       "      <td>Senior Lecturer in Middle Eastern Studies</td>\n",
       "      <td>None</td>\n",
       "      <td>None</td>\n",
       "      <td>B.A., Universite Moulay Ismail (Morocco); M.A....</td>\n",
       "    </tr>\n",
       "    <tr>\n",
       "      <th>1</th>\n",
       "      <td>Abeberese, Ama Baafra</td>\n",
       "      <td>Assistant Professor of Economics</td>\n",
       "      <td>None</td>\n",
       "      <td>None</td>\n",
       "      <td>B.A., Wellesley College; M.A., M.Phil., Ph.D.,...</td>\n",
       "    </tr>\n",
       "    <tr>\n",
       "      <th>2</th>\n",
       "      <td>Adams, Kris</td>\n",
       "      <td>Senior Music Performance Faculty in Vocal Jazz</td>\n",
       "      <td>None</td>\n",
       "      <td>None</td>\n",
       "      <td>B.M., Berklee College of Music; M.M., New Engl...</td>\n",
       "    </tr>\n",
       "    <tr>\n",
       "      <th>3</th>\n",
       "      <td>Adhikari, Prabal</td>\n",
       "      <td>Visiting Lecturer in Physics</td>\n",
       "      <td>None</td>\n",
       "      <td>None</td>\n",
       "      <td>B.A., Grinnell College; Ph.D., University of M...</td>\n",
       "    </tr>\n",
       "    <tr>\n",
       "      <th>4</th>\n",
       "      <td>Agosin, Marjorie</td>\n",
       "      <td>Professor of Spanish</td>\n",
       "      <td>None</td>\n",
       "      <td>None</td>\n",
       "      <td>B.A., University of Georgia; M.A., Ph.D., Indi...</td>\n",
       "    </tr>\n",
       "  </tbody>\n",
       "</table>\n",
       "</div>"
      ],
      "text/plain": [
       "                    name                                           title  \\\n",
       "0        Aadnani, Rachid       Senior Lecturer in Middle Eastern Studies   \n",
       "1  Abeberese, Ama Baafra                Assistant Professor of Economics   \n",
       "2            Adams, Kris  Senior Music Performance Faculty in Vocal Jazz   \n",
       "3       Adhikari, Prabal                    Visiting Lecturer in Physics   \n",
       "4       Agosin, Marjorie                            Professor of Spanish   \n",
       "\n",
       "  title2 title3                                          education  \n",
       "0   None   None  B.A., Universite Moulay Ismail (Morocco); M.A....  \n",
       "1   None   None  B.A., Wellesley College; M.A., M.Phil., Ph.D.,...  \n",
       "2   None   None  B.M., Berklee College of Music; M.M., New Engl...  \n",
       "3   None   None  B.A., Grinnell College; Ph.D., University of M...  \n",
       "4   None   None  B.A., University of Georgia; M.A., Ph.D., Indi...  "
      ]
     },
     "execution_count": 23,
     "metadata": {},
     "output_type": "execute_result"
    }
   ],
   "source": [
    "# part of our dataset\n",
    "prof_df2019.head()"
   ]
  },
  {
   "cell_type": "code",
   "execution_count": 24,
   "metadata": {},
   "outputs": [
    {
     "data": {
      "text/html": [
       "<div>\n",
       "<style scoped>\n",
       "    .dataframe tbody tr th:only-of-type {\n",
       "        vertical-align: middle;\n",
       "    }\n",
       "\n",
       "    .dataframe tbody tr th {\n",
       "        vertical-align: top;\n",
       "    }\n",
       "\n",
       "    .dataframe thead th {\n",
       "        text-align: right;\n",
       "    }\n",
       "</style>\n",
       "<table border=\"1\" class=\"dataframe\">\n",
       "  <thead>\n",
       "    <tr style=\"text-align: right;\">\n",
       "      <th></th>\n",
       "      <th>name</th>\n",
       "      <th>title</th>\n",
       "      <th>title2</th>\n",
       "      <th>title3</th>\n",
       "      <th>education</th>\n",
       "    </tr>\n",
       "  </thead>\n",
       "  <tbody>\n",
       "    <tr>\n",
       "      <th>299</th>\n",
       "      <td>Núñez, Megan</td>\n",
       "      <td>Nan Walsh Schow ‘54 and Howard B. Schow Profes...</td>\n",
       "      <td>Professor of Chemistry</td>\n",
       "      <td>Dean of Faculty Affairs</td>\n",
       "      <td>B.A., Smith College; Ph.D., California Institu...</td>\n",
       "    </tr>\n",
       "    <tr>\n",
       "      <th>347</th>\n",
       "      <td>Russell, David</td>\n",
       "      <td>Lecturer in Music</td>\n",
       "      <td>Co-Director, Wellesley Chamber Music Society</td>\n",
       "      <td>Music Performance Faculty in Cello</td>\n",
       "      <td>B.M., Eastman School; M.M., University of Akro...</td>\n",
       "    </tr>\n",
       "  </tbody>\n",
       "</table>\n",
       "</div>"
      ],
      "text/plain": [
       "               name                                              title  \\\n",
       "299    Núñez, Megan  Nan Walsh Schow ‘54 and Howard B. Schow Profes...   \n",
       "347  Russell, David                                  Lecturer in Music   \n",
       "\n",
       "                                           title2  \\\n",
       "299                        Professor of Chemistry   \n",
       "347  Co-Director, Wellesley Chamber Music Society   \n",
       "\n",
       "                                 title3  \\\n",
       "299             Dean of Faculty Affairs   \n",
       "347  Music Performance Faculty in Cello   \n",
       "\n",
       "                                             education  \n",
       "299  B.A., Smith College; Ph.D., California Institu...  \n",
       "347  B.M., Eastman School; M.M., University of Akro...  "
      ]
     },
     "execution_count": 24,
     "metadata": {},
     "output_type": "execute_result"
    }
   ],
   "source": [
    "# example of professors with multiple titles\n",
    "prof_df2019[prof_df2019['title3'].apply(lambda x: x != None)]"
   ]
  },
  {
   "cell_type": "code",
   "execution_count": 28,
   "metadata": {},
   "outputs": [],
   "source": [
    "# save to csv file for later\n",
    "prof_df2019.to_csv('faculty_info2019.csv')"
   ]
  },
  {
   "cell_type": "markdown",
   "metadata": {},
   "source": [
    "Now we have collected all the faculty information for the academic year of 2019-2020. Next we will continue with the previous year."
   ]
  },
  {
   "cell_type": "markdown",
   "metadata": {},
   "source": [
    "## 2. Collecting Faculty data from 2018-2019 academic year\n",
    "Taking a similar approach we will use the Wayback Machine to extract the faculty roster for the 2018-2019 academic year."
   ]
  },
  {
   "cell_type": "code",
   "execution_count": 29,
   "metadata": {},
   "outputs": [],
   "source": [
    "# grab 2018-2019 page\n",
    "browser.get('https://web.archive.org/web/20180821181030/http://www.wellesley.edu:80/provost/facultyroster')"
   ]
  },
  {
   "cell_type": "code",
   "execution_count": 37,
   "metadata": {},
   "outputs": [],
   "source": [
    "# Extract relevant info\n",
    "profs = browser.find_elements_by_xpath('//div[@class=\"field-item even\"]')[0]\n",
    "profInfo = profs.find_elements_by_xpath('//p')[2:445]"
   ]
  },
  {
   "cell_type": "code",
   "execution_count": 38,
   "metadata": {},
   "outputs": [
    {
     "data": {
      "text/plain": [
       "'Daniel Zitnick\\nLecturer in Middle Eastern Studies\\nB.A., M.A., University of Michigan'"
      ]
     },
     "execution_count": 38,
     "metadata": {},
     "output_type": "execute_result"
    }
   ],
   "source": [
    "# one professors information\n",
    "profInfo[-1].text"
   ]
  },
  {
   "cell_type": "code",
   "execution_count": 39,
   "metadata": {},
   "outputs": [],
   "source": [
    "# create dataframe with professor information\n",
    "prof_df2018 = pd.DataFrame(restructureData(profInfo))\n",
    "prof_df2018.columns = ['name', 'title', 'title2', 'title3', 'education']"
   ]
  },
  {
   "cell_type": "code",
   "execution_count": 40,
   "metadata": {},
   "outputs": [
    {
     "data": {
      "text/html": [
       "<div>\n",
       "<style scoped>\n",
       "    .dataframe tbody tr th:only-of-type {\n",
       "        vertical-align: middle;\n",
       "    }\n",
       "\n",
       "    .dataframe tbody tr th {\n",
       "        vertical-align: top;\n",
       "    }\n",
       "\n",
       "    .dataframe thead th {\n",
       "        text-align: right;\n",
       "    }\n",
       "</style>\n",
       "<table border=\"1\" class=\"dataframe\">\n",
       "  <thead>\n",
       "    <tr style=\"text-align: right;\">\n",
       "      <th></th>\n",
       "      <th>name</th>\n",
       "      <th>title</th>\n",
       "      <th>title2</th>\n",
       "      <th>title3</th>\n",
       "      <th>education</th>\n",
       "    </tr>\n",
       "  </thead>\n",
       "  <tbody>\n",
       "    <tr>\n",
       "      <th>0</th>\n",
       "      <td>Rachid Aadnani</td>\n",
       "      <td>Senior Lecturer in Middle Eastern Studies</td>\n",
       "      <td>None</td>\n",
       "      <td>None</td>\n",
       "      <td>B.A., Universite Moulay Ismail (Morocco); M.A....</td>\n",
       "    </tr>\n",
       "    <tr>\n",
       "      <th>1</th>\n",
       "      <td>Ama Baafra AbebereseA</td>\n",
       "      <td>Assistant Professor of Economics</td>\n",
       "      <td>None</td>\n",
       "      <td>None</td>\n",
       "      <td>B.A., Wellesley College; M.A., M.Phil., Ph.D.,...</td>\n",
       "    </tr>\n",
       "    <tr>\n",
       "      <th>2</th>\n",
       "      <td>Kris Adams</td>\n",
       "      <td>Senior Music Performance Faculty in Vocal Jazz</td>\n",
       "      <td>None</td>\n",
       "      <td>None</td>\n",
       "      <td>B.M., Berklee College of Music; M.M., New Engl...</td>\n",
       "    </tr>\n",
       "    <tr>\n",
       "      <th>3</th>\n",
       "      <td>Marjorie Agosin A2</td>\n",
       "      <td>Professor of Spanish</td>\n",
       "      <td>None</td>\n",
       "      <td>None</td>\n",
       "      <td>B.A., University of Georgia; M.A., Ph.D., Indi...</td>\n",
       "    </tr>\n",
       "    <tr>\n",
       "      <th>4</th>\n",
       "      <td>Eliko Akahori</td>\n",
       "      <td>Senior Music Performance Faculty in Piano</td>\n",
       "      <td>Director, Music Performance Program</td>\n",
       "      <td>None</td>\n",
       "      <td>B.M., Kunitachi College of Music (Japan); M.M....</td>\n",
       "    </tr>\n",
       "  </tbody>\n",
       "</table>\n",
       "</div>"
      ],
      "text/plain": [
       "                    name                                           title  \\\n",
       "0         Rachid Aadnani       Senior Lecturer in Middle Eastern Studies   \n",
       "1  Ama Baafra AbebereseA                Assistant Professor of Economics   \n",
       "2             Kris Adams  Senior Music Performance Faculty in Vocal Jazz   \n",
       "3     Marjorie Agosin A2                            Professor of Spanish   \n",
       "4          Eliko Akahori       Senior Music Performance Faculty in Piano   \n",
       "\n",
       "                                title2 title3  \\\n",
       "0                                 None   None   \n",
       "1                                 None   None   \n",
       "2                                 None   None   \n",
       "3                                 None   None   \n",
       "4  Director, Music Performance Program   None   \n",
       "\n",
       "                                           education  \n",
       "0  B.A., Universite Moulay Ismail (Morocco); M.A....  \n",
       "1  B.A., Wellesley College; M.A., M.Phil., Ph.D.,...  \n",
       "2  B.M., Berklee College of Music; M.M., New Engl...  \n",
       "3  B.A., University of Georgia; M.A., Ph.D., Indi...  \n",
       "4  B.M., Kunitachi College of Music (Japan); M.M....  "
      ]
     },
     "execution_count": 40,
     "metadata": {},
     "output_type": "execute_result"
    }
   ],
   "source": [
    "prof_df2018.head()"
   ]
  },
  {
   "cell_type": "code",
   "execution_count": 41,
   "metadata": {},
   "outputs": [],
   "source": [
    "# save to csv file for later\n",
    "prof_df2018.to_csv('faculty_info2018.csv')"
   ]
  },
  {
   "cell_type": "markdown",
   "metadata": {},
   "source": [
    "## 3. Collecting faculty data from 2016-2017 academic year"
   ]
  },
  {
   "cell_type": "code",
   "execution_count": 73,
   "metadata": {},
   "outputs": [],
   "source": [
    "def extractPage(url, startEl, lastEl):\n",
    "    browser.get(url)\n",
    "    profs = browser.find_elements_by_xpath('//div[@class=\"field-item even\"]')[0]\n",
    "    profInfo = profs.find_elements_by_xpath('//p')[startEl:lastEl]\n",
    "    return profInfo"
   ]
  },
  {
   "cell_type": "code",
   "execution_count": 43,
   "metadata": {},
   "outputs": [],
   "source": [
    "def createAndSaveDf(info, filename):\n",
    "    \"\"\"\n",
    "    creates a dataframe from faculty extracted data and returns dataframe as well as saves it to a csv file\n",
    "    \"\"\"\n",
    "    df = pd.DataFrame(restructureData(info))\n",
    "    df.columns = ['name', 'title', 'title2', 'title3', 'education']\n",
    "    df.to_csv(filename)\n",
    "    return df"
   ]
  },
  {
   "cell_type": "code",
   "execution_count": 98,
   "metadata": {},
   "outputs": [],
   "source": [
    "info = extractPage('https://web.archive.org/web/20170608030112/http://www.wellesley.edu/provost/facultyroster', 7, 478)"
   ]
  },
  {
   "cell_type": "code",
   "execution_count": 99,
   "metadata": {},
   "outputs": [],
   "source": [
    "df_2016 = createAndSaveDf(info, 'faculty_info2016.csv')"
   ]
  },
  {
   "cell_type": "code",
   "execution_count": 83,
   "metadata": {},
   "outputs": [
    {
     "data": {
      "text/html": [
       "<div>\n",
       "<style scoped>\n",
       "    .dataframe tbody tr th:only-of-type {\n",
       "        vertical-align: middle;\n",
       "    }\n",
       "\n",
       "    .dataframe tbody tr th {\n",
       "        vertical-align: top;\n",
       "    }\n",
       "\n",
       "    .dataframe thead th {\n",
       "        text-align: right;\n",
       "    }\n",
       "</style>\n",
       "<table border=\"1\" class=\"dataframe\">\n",
       "  <thead>\n",
       "    <tr style=\"text-align: right;\">\n",
       "      <th></th>\n",
       "      <th>name</th>\n",
       "      <th>title</th>\n",
       "      <th>title2</th>\n",
       "      <th>title3</th>\n",
       "      <th>education</th>\n",
       "    </tr>\n",
       "  </thead>\n",
       "  <tbody>\n",
       "    <tr>\n",
       "      <th>0</th>\n",
       "      <td>Rachid Aadnani</td>\n",
       "      <td>Lecturer in Middle Eastern Studies</td>\n",
       "      <td>None</td>\n",
       "      <td>None</td>\n",
       "      <td>B.A., Universite Moulay Ismail (Morocco); M.A....</td>\n",
       "    </tr>\n",
       "    <tr>\n",
       "      <th>1</th>\n",
       "      <td>Ama Baafra AbebereseA1</td>\n",
       "      <td>Assistant Professor of Economics</td>\n",
       "      <td>None</td>\n",
       "      <td>None</td>\n",
       "      <td>B.A., Wellesley College; M.A., M.Phil., Ph.D.,...</td>\n",
       "    </tr>\n",
       "    <tr>\n",
       "      <th>2</th>\n",
       "      <td>Katherine Adams</td>\n",
       "      <td>Instructor in Physical Education, Recreation a...</td>\n",
       "      <td>None</td>\n",
       "      <td>None</td>\n",
       "      <td>B.S., Nazareth College; MS., University of Mas...</td>\n",
       "    </tr>\n",
       "    <tr>\n",
       "      <th>3</th>\n",
       "      <td>Kris Adams</td>\n",
       "      <td>Senior Music Performance Faculty in Vocal Jazz</td>\n",
       "      <td>None</td>\n",
       "      <td>None</td>\n",
       "      <td>B.M., Berklee College of Music; M.M., New Engl...</td>\n",
       "    </tr>\n",
       "    <tr>\n",
       "      <th>4</th>\n",
       "      <td>Marjorie Agosin</td>\n",
       "      <td>Professor of Spanish</td>\n",
       "      <td>None</td>\n",
       "      <td>None</td>\n",
       "      <td>B.A., University of Georgia; M.A., Ph.D., Indi...</td>\n",
       "    </tr>\n",
       "  </tbody>\n",
       "</table>\n",
       "</div>"
      ],
      "text/plain": [
       "                     name                                              title  \\\n",
       "0          Rachid Aadnani                 Lecturer in Middle Eastern Studies   \n",
       "1  Ama Baafra AbebereseA1                   Assistant Professor of Economics   \n",
       "2         Katherine Adams  Instructor in Physical Education, Recreation a...   \n",
       "3              Kris Adams     Senior Music Performance Faculty in Vocal Jazz   \n",
       "4         Marjorie Agosin                               Professor of Spanish   \n",
       "\n",
       "  title2 title3                                          education  \n",
       "0   None   None  B.A., Universite Moulay Ismail (Morocco); M.A....  \n",
       "1   None   None  B.A., Wellesley College; M.A., M.Phil., Ph.D.,...  \n",
       "2   None   None  B.S., Nazareth College; MS., University of Mas...  \n",
       "3   None   None  B.M., Berklee College of Music; M.M., New Engl...  \n",
       "4   None   None  B.A., University of Georgia; M.A., Ph.D., Indi...  "
      ]
     },
     "execution_count": 83,
     "metadata": {},
     "output_type": "execute_result"
    }
   ],
   "source": [
    "df_2016.head()"
   ]
  },
  {
   "cell_type": "markdown",
   "metadata": {},
   "source": [
    "## 4. Collecting faculty data from 2015-2016 academic year"
   ]
  },
  {
   "cell_type": "code",
   "execution_count": 92,
   "metadata": {},
   "outputs": [],
   "source": [
    "info2015 = extractPage('https://web.archive.org/web/20160224060536/http://www.wellesley.edu/provost/facultyroster',7,487)"
   ]
  },
  {
   "cell_type": "code",
   "execution_count": 95,
   "metadata": {},
   "outputs": [
    {
     "data": {
      "text/html": [
       "<div>\n",
       "<style scoped>\n",
       "    .dataframe tbody tr th:only-of-type {\n",
       "        vertical-align: middle;\n",
       "    }\n",
       "\n",
       "    .dataframe tbody tr th {\n",
       "        vertical-align: top;\n",
       "    }\n",
       "\n",
       "    .dataframe thead th {\n",
       "        text-align: right;\n",
       "    }\n",
       "</style>\n",
       "<table border=\"1\" class=\"dataframe\">\n",
       "  <thead>\n",
       "    <tr style=\"text-align: right;\">\n",
       "      <th></th>\n",
       "      <th>name</th>\n",
       "      <th>title</th>\n",
       "      <th>title2</th>\n",
       "      <th>title3</th>\n",
       "      <th>education</th>\n",
       "    </tr>\n",
       "  </thead>\n",
       "  <tbody>\n",
       "    <tr>\n",
       "      <th>0</th>\n",
       "      <td>Rachid Aadnani</td>\n",
       "      <td>Lecturer in Middle Eastern Studies</td>\n",
       "      <td>None</td>\n",
       "      <td>None</td>\n",
       "      <td>B.A., Universite Moulay Ismail (Morocco); M.A....</td>\n",
       "    </tr>\n",
       "    <tr>\n",
       "      <th>1</th>\n",
       "      <td>Ama Baafra Abeberese</td>\n",
       "      <td>Assistant Professor of Economics</td>\n",
       "      <td>None</td>\n",
       "      <td>None</td>\n",
       "      <td>B.A., Wellesley College; M.A., M.Phil., Ph.D.,...</td>\n",
       "    </tr>\n",
       "    <tr>\n",
       "      <th>2</th>\n",
       "      <td>Kris Adams</td>\n",
       "      <td>Senior Music Performance Faculty in Vocal Jazz</td>\n",
       "      <td>None</td>\n",
       "      <td>None</td>\n",
       "      <td>B.M., Berklee College of Music; M.M., New Engl...</td>\n",
       "    </tr>\n",
       "    <tr>\n",
       "      <th>3</th>\n",
       "      <td>Marjorie AgosinA2</td>\n",
       "      <td>Luella LaMer Slaner Professor in Latin America...</td>\n",
       "      <td>Professor of Spanish</td>\n",
       "      <td>None</td>\n",
       "      <td>B.A., University of Georgia; M.A., Ph.D., Indi...</td>\n",
       "    </tr>\n",
       "    <tr>\n",
       "      <th>4</th>\n",
       "      <td>Eliko Akahori</td>\n",
       "      <td>Music Performance Faculty in Piano</td>\n",
       "      <td>Director, Music Performance Program</td>\n",
       "      <td>None</td>\n",
       "      <td>B.M., Kunitachi College of Music (Japan); M.M....</td>\n",
       "    </tr>\n",
       "  </tbody>\n",
       "</table>\n",
       "</div>"
      ],
      "text/plain": [
       "                   name                                              title  \\\n",
       "0        Rachid Aadnani                 Lecturer in Middle Eastern Studies   \n",
       "1  Ama Baafra Abeberese                   Assistant Professor of Economics   \n",
       "2            Kris Adams     Senior Music Performance Faculty in Vocal Jazz   \n",
       "3     Marjorie AgosinA2  Luella LaMer Slaner Professor in Latin America...   \n",
       "4         Eliko Akahori                 Music Performance Faculty in Piano   \n",
       "\n",
       "                                title2 title3  \\\n",
       "0                                 None   None   \n",
       "1                                 None   None   \n",
       "2                                 None   None   \n",
       "3                 Professor of Spanish   None   \n",
       "4  Director, Music Performance Program   None   \n",
       "\n",
       "                                           education  \n",
       "0  B.A., Universite Moulay Ismail (Morocco); M.A....  \n",
       "1  B.A., Wellesley College; M.A., M.Phil., Ph.D.,...  \n",
       "2  B.M., Berklee College of Music; M.M., New Engl...  \n",
       "3  B.A., University of Georgia; M.A., Ph.D., Indi...  \n",
       "4  B.M., Kunitachi College of Music (Japan); M.M....  "
      ]
     },
     "execution_count": 95,
     "metadata": {},
     "output_type": "execute_result"
    }
   ],
   "source": [
    "df_2015 = createAndSaveDf(info2015, 'faculty_info2015.csv')\n",
    "df_2015.head()"
   ]
  },
  {
   "cell_type": "markdown",
   "metadata": {},
   "source": [
    "## 5. Collecting faculty data from 2014-2015 academic year"
   ]
  },
  {
   "cell_type": "code",
   "execution_count": 109,
   "metadata": {},
   "outputs": [],
   "source": [
    "info2014 = extractPage('https://web.archive.org/web/20141230183413/http://www.wellesley.edu/provost/facultyroster',1,479)"
   ]
  },
  {
   "cell_type": "code",
   "execution_count": 111,
   "metadata": {},
   "outputs": [
    {
     "data": {
      "text/html": [
       "<div>\n",
       "<style scoped>\n",
       "    .dataframe tbody tr th:only-of-type {\n",
       "        vertical-align: middle;\n",
       "    }\n",
       "\n",
       "    .dataframe tbody tr th {\n",
       "        vertical-align: top;\n",
       "    }\n",
       "\n",
       "    .dataframe thead th {\n",
       "        text-align: right;\n",
       "    }\n",
       "</style>\n",
       "<table border=\"1\" class=\"dataframe\">\n",
       "  <thead>\n",
       "    <tr style=\"text-align: right;\">\n",
       "      <th></th>\n",
       "      <th>name</th>\n",
       "      <th>title</th>\n",
       "      <th>title2</th>\n",
       "      <th>title3</th>\n",
       "      <th>education</th>\n",
       "    </tr>\n",
       "  </thead>\n",
       "  <tbody>\n",
       "    <tr>\n",
       "      <th>0</th>\n",
       "      <td>Rachid Aadnani</td>\n",
       "      <td>Lecturer in Middle Eastern Studies</td>\n",
       "      <td>None</td>\n",
       "      <td>None</td>\n",
       "      <td>B.A., Universite Moulay Ismail (Morocco); M.A....</td>\n",
       "    </tr>\n",
       "    <tr>\n",
       "      <th>1</th>\n",
       "      <td>Ama Baafra AbebereseA1</td>\n",
       "      <td>Assistant Professor of Economics</td>\n",
       "      <td>None</td>\n",
       "      <td>None</td>\n",
       "      <td>B.A., Wellesley College; M.A., M.Phil., Ph.D.,...</td>\n",
       "    </tr>\n",
       "    <tr>\n",
       "      <th>2</th>\n",
       "      <td>Kris Adams</td>\n",
       "      <td>Senior Music Performance Faculty in Vocal Jazz</td>\n",
       "      <td>None</td>\n",
       "      <td>None</td>\n",
       "      <td>B.M., Berklee College of Music; M.M., New Engl...</td>\n",
       "    </tr>\n",
       "    <tr>\n",
       "      <th>3</th>\n",
       "      <td>Marjorie Agosin</td>\n",
       "      <td>Luella LaMer Slaner Professor in Latin America...</td>\n",
       "      <td>Professor of Spanish</td>\n",
       "      <td>None</td>\n",
       "      <td>B.A., University of Georgia; M.A., Ph.D., Indi...</td>\n",
       "    </tr>\n",
       "    <tr>\n",
       "      <th>4</th>\n",
       "      <td>Eliko Akahori</td>\n",
       "      <td>Music Performance Faculty in Piano</td>\n",
       "      <td>Coach/Accompanist</td>\n",
       "      <td>None</td>\n",
       "      <td>B.M., Kunitachi College of Music (Japan); M.M....</td>\n",
       "    </tr>\n",
       "  </tbody>\n",
       "</table>\n",
       "</div>"
      ],
      "text/plain": [
       "                     name                                              title  \\\n",
       "0          Rachid Aadnani                 Lecturer in Middle Eastern Studies   \n",
       "1  Ama Baafra AbebereseA1                   Assistant Professor of Economics   \n",
       "2              Kris Adams     Senior Music Performance Faculty in Vocal Jazz   \n",
       "3         Marjorie Agosin  Luella LaMer Slaner Professor in Latin America...   \n",
       "4           Eliko Akahori                 Music Performance Faculty in Piano   \n",
       "\n",
       "                 title2 title3  \\\n",
       "0                  None   None   \n",
       "1                  None   None   \n",
       "2                  None   None   \n",
       "3  Professor of Spanish   None   \n",
       "4     Coach/Accompanist   None   \n",
       "\n",
       "                                           education  \n",
       "0  B.A., Universite Moulay Ismail (Morocco); M.A....  \n",
       "1  B.A., Wellesley College; M.A., M.Phil., Ph.D.,...  \n",
       "2  B.M., Berklee College of Music; M.M., New Engl...  \n",
       "3  B.A., University of Georgia; M.A., Ph.D., Indi...  \n",
       "4  B.M., Kunitachi College of Music (Japan); M.M....  "
      ]
     },
     "execution_count": 111,
     "metadata": {},
     "output_type": "execute_result"
    }
   ],
   "source": [
    "df_2014 = createAndSaveDf(info2014, 'faculty_info2014.csv')\n",
    "df_2014.head()"
   ]
  },
  {
   "cell_type": "markdown",
   "metadata": {},
   "source": [
    "## 6. Collecting faculty data from 2013-2014 academic year"
   ]
  },
  {
   "cell_type": "code",
   "execution_count": 116,
   "metadata": {},
   "outputs": [],
   "source": [
    "info2013 = extractPage('https://web.archive.org/web/20140811170954/http://www.wellesley.edu/provost/facultyroster',1,483)"
   ]
  },
  {
   "cell_type": "code",
   "execution_count": 138,
   "metadata": {},
   "outputs": [
    {
     "data": {
      "text/html": [
       "<div>\n",
       "<style scoped>\n",
       "    .dataframe tbody tr th:only-of-type {\n",
       "        vertical-align: middle;\n",
       "    }\n",
       "\n",
       "    .dataframe tbody tr th {\n",
       "        vertical-align: top;\n",
       "    }\n",
       "\n",
       "    .dataframe thead th {\n",
       "        text-align: right;\n",
       "    }\n",
       "</style>\n",
       "<table border=\"1\" class=\"dataframe\">\n",
       "  <thead>\n",
       "    <tr style=\"text-align: right;\">\n",
       "      <th></th>\n",
       "      <th>name</th>\n",
       "      <th>title</th>\n",
       "      <th>title2</th>\n",
       "      <th>title3</th>\n",
       "      <th>education</th>\n",
       "    </tr>\n",
       "  </thead>\n",
       "  <tbody>\n",
       "    <tr>\n",
       "      <th>0</th>\n",
       "      <td>Rachid Aadnani</td>\n",
       "      <td>Lecturer in Middle Eastern Studies</td>\n",
       "      <td>None</td>\n",
       "      <td>None</td>\n",
       "      <td>B.A., Universite Moulay Ismail (Morocco); M.A....</td>\n",
       "    </tr>\n",
       "    <tr>\n",
       "      <th>1</th>\n",
       "      <td>Ama Baafra Abeberese</td>\n",
       "      <td>Assistant Professor of Economics</td>\n",
       "      <td>None</td>\n",
       "      <td>None</td>\n",
       "      <td>B.A., Wellesley College; M.A., M.Phil., Ph.D.,...</td>\n",
       "    </tr>\n",
       "    <tr>\n",
       "      <th>2</th>\n",
       "      <td>Kris Adams</td>\n",
       "      <td>Senior Music Performance Faculty in Vocal Jazz</td>\n",
       "      <td>None</td>\n",
       "      <td>None</td>\n",
       "      <td>B.M., Berklee College of Music; M.M., New Engl...</td>\n",
       "    </tr>\n",
       "    <tr>\n",
       "      <th>3</th>\n",
       "      <td>Marjorie Agosin</td>\n",
       "      <td>Luella LaMer Slaner Professor in Latin America...</td>\n",
       "      <td>Professor of Spanish</td>\n",
       "      <td>None</td>\n",
       "      <td>B.A., University of Georgia; M.A., Ph.D., Indi...</td>\n",
       "    </tr>\n",
       "    <tr>\n",
       "      <th>4</th>\n",
       "      <td>Eliko Akahori</td>\n",
       "      <td>Music Performance Faculty in Piano</td>\n",
       "      <td>Coach/Accompanist</td>\n",
       "      <td>None</td>\n",
       "      <td>B.M., Kunitachi College of Music (Japan); M.M....</td>\n",
       "    </tr>\n",
       "  </tbody>\n",
       "</table>\n",
       "</div>"
      ],
      "text/plain": [
       "                   name                                              title  \\\n",
       "0        Rachid Aadnani                 Lecturer in Middle Eastern Studies   \n",
       "1  Ama Baafra Abeberese                   Assistant Professor of Economics   \n",
       "2            Kris Adams     Senior Music Performance Faculty in Vocal Jazz   \n",
       "3       Marjorie Agosin  Luella LaMer Slaner Professor in Latin America...   \n",
       "4         Eliko Akahori                 Music Performance Faculty in Piano   \n",
       "\n",
       "                 title2 title3  \\\n",
       "0                  None   None   \n",
       "1                  None   None   \n",
       "2                  None   None   \n",
       "3  Professor of Spanish   None   \n",
       "4     Coach/Accompanist   None   \n",
       "\n",
       "                                           education  \n",
       "0  B.A., Universite Moulay Ismail (Morocco); M.A....  \n",
       "1  B.A., Wellesley College; M.A., M.Phil., Ph.D.,...  \n",
       "2  B.M., Berklee College of Music; M.M., New Engl...  \n",
       "3  B.A., University of Georgia; M.A., Ph.D., Indi...  \n",
       "4  B.M., Kunitachi College of Music (Japan); M.M....  "
      ]
     },
     "execution_count": 138,
     "metadata": {},
     "output_type": "execute_result"
    }
   ],
   "source": [
    "df_2013 = createAndSaveDf(info2013, 'faculty_info2013.csv')\n",
    "df_2013.head()"
   ]
  },
  {
   "cell_type": "markdown",
   "metadata": {},
   "source": [
    "## 7. Collecting faculty data from 2012-2013 academic year"
   ]
  },
  {
   "cell_type": "code",
   "execution_count": 149,
   "metadata": {},
   "outputs": [],
   "source": [
    "info2012 = extractPage('https://web.archive.org/web/20130518012000/http://www.wellesley.edu/provost/facultyroster',1,455)"
   ]
  },
  {
   "cell_type": "code",
   "execution_count": 152,
   "metadata": {},
   "outputs": [
    {
     "data": {
      "text/html": [
       "<div>\n",
       "<style scoped>\n",
       "    .dataframe tbody tr th:only-of-type {\n",
       "        vertical-align: middle;\n",
       "    }\n",
       "\n",
       "    .dataframe tbody tr th {\n",
       "        vertical-align: top;\n",
       "    }\n",
       "\n",
       "    .dataframe thead th {\n",
       "        text-align: right;\n",
       "    }\n",
       "</style>\n",
       "<table border=\"1\" class=\"dataframe\">\n",
       "  <thead>\n",
       "    <tr style=\"text-align: right;\">\n",
       "      <th></th>\n",
       "      <th>name</th>\n",
       "      <th>title</th>\n",
       "      <th>title2</th>\n",
       "      <th>title3</th>\n",
       "      <th>education</th>\n",
       "    </tr>\n",
       "  </thead>\n",
       "  <tbody>\n",
       "    <tr>\n",
       "      <th>0</th>\n",
       "      <td>Rachid Aadnani</td>\n",
       "      <td>Lecturer in Middle Eastern Studies</td>\n",
       "      <td>None</td>\n",
       "      <td>None</td>\n",
       "      <td>B.A., Universite Moulay Ismail (Morocco); M.A....</td>\n",
       "    </tr>\n",
       "    <tr>\n",
       "      <th>1</th>\n",
       "      <td>Brandon Abbs</td>\n",
       "      <td>Visiting Lecturer in Psychology</td>\n",
       "      <td>None</td>\n",
       "      <td>None</td>\n",
       "      <td>B.A., University of Maryland; Ph.D., Universit...</td>\n",
       "    </tr>\n",
       "    <tr>\n",
       "      <th>2</th>\n",
       "      <td>Rana Abdul-Aziz</td>\n",
       "      <td>Lecturer in Middle Eastern Studies</td>\n",
       "      <td>None</td>\n",
       "      <td>None</td>\n",
       "      <td>B.A., M.A., Tufts University</td>\n",
       "    </tr>\n",
       "    <tr>\n",
       "      <th>3</th>\n",
       "      <td>Kris Adams</td>\n",
       "      <td>Senior Music Performance Faculty in Vocal Jazz</td>\n",
       "      <td>None</td>\n",
       "      <td>None</td>\n",
       "      <td>B.M., Berklee College of Music; M.M., New Engl...</td>\n",
       "    </tr>\n",
       "    <tr>\n",
       "      <th>4</th>\n",
       "      <td>Marjorie Agosin</td>\n",
       "      <td>Luella LaMer Slaner Professor in Latin America...</td>\n",
       "      <td>Professor of Spanish</td>\n",
       "      <td>None</td>\n",
       "      <td>B.A., University of Georgia; M.A., Ph.D., Indi...</td>\n",
       "    </tr>\n",
       "  </tbody>\n",
       "</table>\n",
       "</div>"
      ],
      "text/plain": [
       "              name                                              title  \\\n",
       "0   Rachid Aadnani                 Lecturer in Middle Eastern Studies   \n",
       "1     Brandon Abbs                    Visiting Lecturer in Psychology   \n",
       "2  Rana Abdul-Aziz                 Lecturer in Middle Eastern Studies   \n",
       "3       Kris Adams     Senior Music Performance Faculty in Vocal Jazz   \n",
       "4  Marjorie Agosin  Luella LaMer Slaner Professor in Latin America...   \n",
       "\n",
       "                 title2 title3  \\\n",
       "0                  None   None   \n",
       "1                  None   None   \n",
       "2                  None   None   \n",
       "3                  None   None   \n",
       "4  Professor of Spanish   None   \n",
       "\n",
       "                                           education  \n",
       "0  B.A., Universite Moulay Ismail (Morocco); M.A....  \n",
       "1  B.A., University of Maryland; Ph.D., Universit...  \n",
       "2                       B.A., M.A., Tufts University  \n",
       "3  B.M., Berklee College of Music; M.M., New Engl...  \n",
       "4  B.A., University of Georgia; M.A., Ph.D., Indi...  "
      ]
     },
     "execution_count": 152,
     "metadata": {},
     "output_type": "execute_result"
    }
   ],
   "source": [
    "df_2012 = createAndSaveDf(info2012, 'faculty_info2012.csv')\n",
    "df_2012.head()"
   ]
  },
  {
   "cell_type": "markdown",
   "metadata": {},
   "source": [
    "## 8. Collecting faculty data from 2017-2018 \n",
    "There is one year that has very different formatting than the other years instead of having all the data in p elements the data is in div elements and each div element includes one text snippet meaning that the information for one professor is spread across multiple div elements. This adds the additional complication that some professors have more information while others less making it hard to say that every third element includes professor information. However we can use empty div elements as the cutoff to another professors information."
   ]
  },
  {
   "cell_type": "code",
   "execution_count": 153,
   "metadata": {},
   "outputs": [],
   "source": [
    "# extract data from the web\n",
    "browser.get('https://web.archive.org/web/20180722031240/https://www.wellesley.edu/provost/facultyroster')\n",
    "profs = browser.find_elements_by_xpath('//div[@class=\"field-item even\"]')[0]\n",
    "profInfo = profs.find_elements_by_xpath('//div')"
   ]
  },
  {
   "cell_type": "code",
   "execution_count": 154,
   "metadata": {},
   "outputs": [
    {
     "data": {
      "text/plain": [
       "2243"
      ]
     },
     "execution_count": 154,
     "metadata": {},
     "output_type": "execute_result"
    }
   ],
   "source": [
    "len(profInfo) # so many div elements!"
   ]
  },
  {
   "cell_type": "code",
   "execution_count": 160,
   "metadata": {},
   "outputs": [
    {
     "data": {
      "text/plain": [
       "'Rachid Aadnani'"
      ]
     },
     "execution_count": 160,
     "metadata": {},
     "output_type": "execute_result"
    }
   ],
   "source": [
    "# first faculty information \n",
    "profInfo[29].text"
   ]
  },
  {
   "cell_type": "code",
   "execution_count": 171,
   "metadata": {},
   "outputs": [
    {
     "data": {
      "text/plain": [
       "'B.A., M.A., University of Michigan'"
      ]
     },
     "execution_count": 171,
     "metadata": {},
     "output_type": "execute_result"
    }
   ],
   "source": [
    "# last current faculty information \n",
    "profInfo[1896].text"
   ]
  },
  {
   "cell_type": "code",
   "execution_count": 182,
   "metadata": {},
   "outputs": [],
   "source": [
    "# only save current faculty info \n",
    "profInfo = profs.find_elements_by_xpath('//div')[29:1897]"
   ]
  },
  {
   "cell_type": "code",
   "execution_count": 189,
   "metadata": {},
   "outputs": [],
   "source": [
    "def splitProfInfo(info):\n",
    "    profList = []\n",
    "    prof = []\n",
    "    for i in range(len(info)):\n",
    "        if (info[i].text != ' '): ## check where there is space that \n",
    "            prof.append(info[i].text)\n",
    "        else:\n",
    "            profList.append(prof)\n",
    "            prof = []\n",
    "    return profList"
   ]
  },
  {
   "cell_type": "code",
   "execution_count": 190,
   "metadata": {},
   "outputs": [],
   "source": [
    "cleanProf = splitProfInfo(profInfo)"
   ]
  },
  {
   "cell_type": "code",
   "execution_count": 193,
   "metadata": {},
   "outputs": [
    {
     "data": {
      "text/plain": [
       "[['Rachid Aadnani',\n",
       "  'Senior Lecturer in Middle Eastern Studies',\n",
       "  'B.A., Universite Moulay Ismail (Morocco); M.A., Dartmouth College; Ph.D., Binghamton University'],\n",
       " ['Ama Baafra Abeberese',\n",
       "  'Assistant Professor of Economics',\n",
       "  'B.A., Wellesley College; M.A., M.Phil., Ph.D., Columbia University']]"
      ]
     },
     "execution_count": 193,
     "metadata": {},
     "output_type": "execute_result"
    }
   ],
   "source": [
    "cleanProf[:2]"
   ]
  },
  {
   "cell_type": "code",
   "execution_count": 192,
   "metadata": {},
   "outputs": [],
   "source": [
    "# restructure all data entries\n",
    "def restructureProfInfo(profInfo):\n",
    "    allInstructors = []\n",
    "    for info in profInfo:\n",
    "        if len(info) == 7: # special case when p element contains two people\n",
    "            info1 = info[4:6] +[None,None] + [info[-1]]\n",
    "            allInstructors.append(info1)\n",
    "            info = info[:2] +[None,None] + [info[2]]\n",
    "        if len(info) == 3: \n",
    "            info = info[:2] +[None,None] + [info[-1]]\n",
    "        elif len(info) == 2:\n",
    "            if \"B.F.A.\" in info[1]: # special case of person just having university info and no title\n",
    "                info = [info[0]] + [None, None, None] + [info[-1]]\n",
    "            else:\n",
    "                info = info[:2] + [None, None, None]\n",
    "        elif len(info) == 4:\n",
    "            if 'University' in info[2]:\n",
    "                info = info[:2] + [None, None] + [''.join([info[2],info[-1]])]\n",
    "            else:\n",
    "                info = info[:3] + [None] + [info[-1]]\n",
    "        allInstructors.append(info)\n",
    "    return allInstructors"
   ]
  },
  {
   "cell_type": "code",
   "execution_count": 196,
   "metadata": {},
   "outputs": [],
   "source": [
    "restructuredProf = restructureProfInfo(cleanProf)\n",
    "prof_2017 = pd.DataFrame(restructuredProf)\n",
    "prof_2017.columns = ['name', 'title', 'title2', 'title3', 'education']"
   ]
  },
  {
   "cell_type": "code",
   "execution_count": 197,
   "metadata": {},
   "outputs": [
    {
     "data": {
      "text/html": [
       "<div>\n",
       "<style scoped>\n",
       "    .dataframe tbody tr th:only-of-type {\n",
       "        vertical-align: middle;\n",
       "    }\n",
       "\n",
       "    .dataframe tbody tr th {\n",
       "        vertical-align: top;\n",
       "    }\n",
       "\n",
       "    .dataframe thead th {\n",
       "        text-align: right;\n",
       "    }\n",
       "</style>\n",
       "<table border=\"1\" class=\"dataframe\">\n",
       "  <thead>\n",
       "    <tr style=\"text-align: right;\">\n",
       "      <th></th>\n",
       "      <th>name</th>\n",
       "      <th>title</th>\n",
       "      <th>title2</th>\n",
       "      <th>title3</th>\n",
       "      <th>education</th>\n",
       "    </tr>\n",
       "  </thead>\n",
       "  <tbody>\n",
       "    <tr>\n",
       "      <th>0</th>\n",
       "      <td>Rachid Aadnani</td>\n",
       "      <td>Senior Lecturer in Middle Eastern Studies</td>\n",
       "      <td>None</td>\n",
       "      <td>None</td>\n",
       "      <td>B.A., Universite Moulay Ismail (Morocco); M.A....</td>\n",
       "    </tr>\n",
       "    <tr>\n",
       "      <th>1</th>\n",
       "      <td>Ama Baafra Abeberese</td>\n",
       "      <td>Assistant Professor of Economics</td>\n",
       "      <td>None</td>\n",
       "      <td>None</td>\n",
       "      <td>B.A., Wellesley College; M.A., M.Phil., Ph.D.,...</td>\n",
       "    </tr>\n",
       "    <tr>\n",
       "      <th>2</th>\n",
       "      <td>Kris Adams</td>\n",
       "      <td>Senior Music Performance Faculty in Vocal Jazz</td>\n",
       "      <td>None</td>\n",
       "      <td>None</td>\n",
       "      <td>B.M., Berklee College of Music; M.M., New Engl...</td>\n",
       "    </tr>\n",
       "    <tr>\n",
       "      <th>3</th>\n",
       "      <td>Katherine Adams</td>\n",
       "      <td>Instructor in Physical Education, Recreation a...</td>\n",
       "      <td>None</td>\n",
       "      <td>None</td>\n",
       "      <td>B.S., Nazareth College; MS., University of Mas...</td>\n",
       "    </tr>\n",
       "    <tr>\n",
       "      <th>4</th>\n",
       "      <td>Marjorie Agosin</td>\n",
       "      <td>Professor of Spanish</td>\n",
       "      <td>None</td>\n",
       "      <td>None</td>\n",
       "      <td>B.A., University of Georgia; M.A., Ph.D., Indi...</td>\n",
       "    </tr>\n",
       "  </tbody>\n",
       "</table>\n",
       "</div>"
      ],
      "text/plain": [
       "                   name                                              title  \\\n",
       "0        Rachid Aadnani          Senior Lecturer in Middle Eastern Studies   \n",
       "1  Ama Baafra Abeberese                   Assistant Professor of Economics   \n",
       "2            Kris Adams     Senior Music Performance Faculty in Vocal Jazz   \n",
       "3       Katherine Adams  Instructor in Physical Education, Recreation a...   \n",
       "4       Marjorie Agosin                               Professor of Spanish   \n",
       "\n",
       "  title2 title3                                          education  \n",
       "0   None   None  B.A., Universite Moulay Ismail (Morocco); M.A....  \n",
       "1   None   None  B.A., Wellesley College; M.A., M.Phil., Ph.D.,...  \n",
       "2   None   None  B.M., Berklee College of Music; M.M., New Engl...  \n",
       "3   None   None  B.S., Nazareth College; MS., University of Mas...  \n",
       "4   None   None  B.A., University of Georgia; M.A., Ph.D., Indi...  "
      ]
     },
     "execution_count": 197,
     "metadata": {},
     "output_type": "execute_result"
    }
   ],
   "source": [
    "prof_2017.head()"
   ]
  },
  {
   "cell_type": "code",
   "execution_count": 198,
   "metadata": {},
   "outputs": [],
   "source": [
    "# save data to csv\n",
    "prof_2017.to_csv('faculty_info2017.csv')"
   ]
  },
  {
   "cell_type": "code",
   "execution_count": null,
   "metadata": {},
   "outputs": [],
   "source": []
  }
 ],
 "metadata": {
  "kernelspec": {
   "display_name": "Python 3",
   "language": "python",
   "name": "python3"
  },
  "language_info": {
   "codemirror_mode": {
    "name": "ipython",
    "version": 3
   },
   "file_extension": ".py",
   "mimetype": "text/x-python",
   "name": "python",
   "nbconvert_exporter": "python",
   "pygments_lexer": "ipython3",
   "version": "3.7.6"
  }
 },
 "nbformat": 4,
 "nbformat_minor": 4
}
