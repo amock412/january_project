{
 "cells": [
  {
   "cell_type": "markdown",
   "metadata": {},
   "source": [
    "# Investigating Information about Wellesley Professors\n",
    "\n",
    "Author: Andrea Mock\n",
    "\n",
    "The website of the Provost & Dean of the College contains a page which includes the current faculty roster. For each faculty member, it lists their name, title and education. Using this data we want to learn more about the makeup of the faculty pool. \n",
    "\n",
    "This Jupyter Notebook is broken down in the following sections:\n",
    "1. Scraping faculty information \n",
    "2. Exploring faculty education history\n",
    "3. Extracting department information\n",
    "4. Visualizing faculty data\n",
    "5. Exploring departments further"
   ]
  },
  {
   "cell_type": "code",
   "execution_count": 2,
   "metadata": {},
   "outputs": [],
   "source": [
    "import pandas as pd\n",
    "from collections import Counter\n",
    "\n",
    "# import for plotting later\n",
    "from matplotlib import pyplot as plt\n",
    "plt.style.use('fivethirtyeight')"
   ]
  },
  {
   "cell_type": "markdown",
   "metadata": {},
   "source": [
    "## 1. Scraping faculty data\n",
    "\n",
    "Using Selenium, we can grab the information on the faculty roster page of the Wellesley College page. With the help of the inspector tool we can examine what elements of the DOM we want to extract to get the needed information. All of the faculty information is located inside of <p> elements thus we locate these and save them for further processing.\n",
    "\n",
    "Unfortunately the page is not uniform in structure, which will mean more data cleaning in a subsequent step. "
   ]
  },
  {
   "cell_type": "code",
   "execution_count": 1,
   "metadata": {},
   "outputs": [],
   "source": [
    "#import chrome webdriver\n",
    "from selenium import webdriver\n",
    "from webdriver_manager.chrome import ChromeDriverManager"
   ]
  },
  {
   "cell_type": "code",
   "execution_count": 335,
   "metadata": {},
   "outputs": [
    {
     "name": "stderr",
     "output_type": "stream",
     "text": [
      "[WDM] - Current google-chrome version is 87.0.4280\n",
      "[WDM] - Get LATEST driver version for 87.0.4280\n",
      "[WDM] - Driver [/Users/andreamock/.wdm/drivers/chromedriver/mac64/87.0.4280.88/chromedriver] found in cache\n"
     ]
    },
    {
     "name": "stdout",
     "output_type": "stream",
     "text": [
      " \n"
     ]
    }
   ],
   "source": [
    "browser = webdriver.Chrome(ChromeDriverManager().install())\n",
    "browser.get('https://www.wellesley.edu/provost/facultyroster')"
   ]
  },
  {
   "cell_type": "code",
   "execution_count": 336,
   "metadata": {},
   "outputs": [],
   "source": [
    "profs = browser.find_elements_by_xpath('//div[@class=\"field-item even\"]')[0]"
   ]
  },
  {
   "cell_type": "code",
   "execution_count": 337,
   "metadata": {},
   "outputs": [],
   "source": [
    "# extracting relevant p elements \n",
    "profInfo = profs.find_elements_by_xpath('//p')[2:458]"
   ]
  },
  {
   "cell_type": "code",
   "execution_count": 338,
   "metadata": {},
   "outputs": [
    {
     "data": {
      "text/plain": [
       "'Abeberese, Ama Baafra\\nAssistant Professor of Economics\\nB.A., Wellesley College; M.A., M.Phil., Ph.D., Columbia University'"
      ]
     },
     "execution_count": 338,
     "metadata": {},
     "output_type": "execute_result"
    }
   ],
   "source": [
    "# taking a look at one of the entries \n",
    "profInfo[1].text"
   ]
  },
  {
   "cell_type": "markdown",
   "metadata": {},
   "source": [
    "Each entry contains the information for a particular professor, where each piece of information is split by a newline character. Thus sing the new line character as a splitting point we can create a list of information for each professor. However, some professors are missing some information and only contain name and education, or multiple job titles. Thus, depending on length of the list containing a professors information we restructure the list to later have a nicely formated dataframe. "
   ]
  },
  {
   "cell_type": "code",
   "execution_count": 339,
   "metadata": {},
   "outputs": [
    {
     "data": {
      "text/plain": [
       "['Rogers, Guy M.',\n",
       " 'William R. Kenan, Jr. Professor of History and Classical Studies',\n",
       " None,\n",
       " 'B.A., Universite Moulay Ismail (Morocco); M.A., Dartmouth College; Ph.D., Binghamton University']"
      ]
     },
     "execution_count": 339,
     "metadata": {},
     "output_type": "execute_result"
    }
   ],
   "source": [
    "# example of how restructuring could look like\n",
    "profInfo[343].text.split('\\n')[:2] + [None] + [profInfo[0].text.split('\\n')[-1]]"
   ]
  },
  {
   "cell_type": "code",
   "execution_count": 341,
   "metadata": {},
   "outputs": [],
   "source": [
    "# restructure all data entries\n",
    "allInstructors = []\n",
    "for person in profInfo:\n",
    "    info = person.text.split('\\n')\n",
    "    if len(info) == 3: \n",
    "        info = info[:2] +[None,None] + [info[-1]]\n",
    "    elif len(info) == 2:\n",
    "        if \"B.F.A.\" in info[1]: # special case of person just having university info and no title\n",
    "            info = [info[0]] + [None, None, None] + [info[-1]]\n",
    "        else:\n",
    "            info = info[:2] + [None, None, None]\n",
    "    elif len(info) == 4:\n",
    "        if 'University' in info[2]:\n",
    "            info = info[:2] + [None, None] + [''.join([info[2],info[-1]])]\n",
    "        else:\n",
    "            info = info[:3] + [None] + [info[-1]]\n",
    "    allInstructors.append(info)"
   ]
  },
  {
   "cell_type": "code",
   "execution_count": 342,
   "metadata": {},
   "outputs": [],
   "source": [
    "# create dataframe with professor information\n",
    "prof_df = pd.DataFrame(allInstructors)\n",
    "prof_df.columns = ['name', 'title', 'title2', 'title3', 'education']"
   ]
  },
  {
   "cell_type": "code",
   "execution_count": 343,
   "metadata": {},
   "outputs": [
    {
     "data": {
      "text/plain": [
       "(456, 5)"
      ]
     },
     "execution_count": 343,
     "metadata": {},
     "output_type": "execute_result"
    }
   ],
   "source": [
    "prof_df.shape"
   ]
  },
  {
   "cell_type": "code",
   "execution_count": 344,
   "metadata": {},
   "outputs": [
    {
     "data": {
      "text/html": [
       "<div>\n",
       "<style scoped>\n",
       "    .dataframe tbody tr th:only-of-type {\n",
       "        vertical-align: middle;\n",
       "    }\n",
       "\n",
       "    .dataframe tbody tr th {\n",
       "        vertical-align: top;\n",
       "    }\n",
       "\n",
       "    .dataframe thead th {\n",
       "        text-align: right;\n",
       "    }\n",
       "</style>\n",
       "<table border=\"1\" class=\"dataframe\">\n",
       "  <thead>\n",
       "    <tr style=\"text-align: right;\">\n",
       "      <th></th>\n",
       "      <th>name</th>\n",
       "      <th>title</th>\n",
       "      <th>title2</th>\n",
       "      <th>title3</th>\n",
       "      <th>education</th>\n",
       "    </tr>\n",
       "  </thead>\n",
       "  <tbody>\n",
       "    <tr>\n",
       "      <th>0</th>\n",
       "      <td>Aadnani, Rachid</td>\n",
       "      <td>Senior Lecturer in Middle Eastern Studies</td>\n",
       "      <td>None</td>\n",
       "      <td>None</td>\n",
       "      <td>B.A., Universite Moulay Ismail (Morocco); M.A....</td>\n",
       "    </tr>\n",
       "    <tr>\n",
       "      <th>1</th>\n",
       "      <td>Abeberese, Ama Baafra</td>\n",
       "      <td>Assistant Professor of Economics</td>\n",
       "      <td>None</td>\n",
       "      <td>None</td>\n",
       "      <td>B.A., Wellesley College; M.A., M.Phil., Ph.D.,...</td>\n",
       "    </tr>\n",
       "    <tr>\n",
       "      <th>2</th>\n",
       "      <td>Adams, Kris</td>\n",
       "      <td>Senior Music Performance Faculty in Vocal Jazz</td>\n",
       "      <td>None</td>\n",
       "      <td>None</td>\n",
       "      <td>B.M., Berklee College of Music; M.M., New Engl...</td>\n",
       "    </tr>\n",
       "    <tr>\n",
       "      <th>3</th>\n",
       "      <td>Agosin, Marjorie</td>\n",
       "      <td>Professor of Spanish</td>\n",
       "      <td>None</td>\n",
       "      <td>None</td>\n",
       "      <td>B.A., University of Georgia; M.A., Ph.D., Indi...</td>\n",
       "    </tr>\n",
       "    <tr>\n",
       "      <th>4</th>\n",
       "      <td>Akahori, Eliko</td>\n",
       "      <td>Senior Music Performance Faculty in Piano</td>\n",
       "      <td>Director, Music Performance Program</td>\n",
       "      <td>None</td>\n",
       "      <td>B.M., Kunitachi College of Music (Japan); M.M....</td>\n",
       "    </tr>\n",
       "  </tbody>\n",
       "</table>\n",
       "</div>"
      ],
      "text/plain": [
       "                    name                                           title  \\\n",
       "0        Aadnani, Rachid       Senior Lecturer in Middle Eastern Studies   \n",
       "1  Abeberese, Ama Baafra                Assistant Professor of Economics   \n",
       "2            Adams, Kris  Senior Music Performance Faculty in Vocal Jazz   \n",
       "3       Agosin, Marjorie                            Professor of Spanish   \n",
       "4         Akahori, Eliko       Senior Music Performance Faculty in Piano   \n",
       "\n",
       "                                title2 title3  \\\n",
       "0                                 None   None   \n",
       "1                                 None   None   \n",
       "2                                 None   None   \n",
       "3                                 None   None   \n",
       "4  Director, Music Performance Program   None   \n",
       "\n",
       "                                           education  \n",
       "0  B.A., Universite Moulay Ismail (Morocco); M.A....  \n",
       "1  B.A., Wellesley College; M.A., M.Phil., Ph.D.,...  \n",
       "2  B.M., Berklee College of Music; M.M., New Engl...  \n",
       "3  B.A., University of Georgia; M.A., Ph.D., Indi...  \n",
       "4  B.M., Kunitachi College of Music (Japan); M.M....  "
      ]
     },
     "execution_count": 344,
     "metadata": {},
     "output_type": "execute_result"
    }
   ],
   "source": [
    "prof_df.head()"
   ]
  },
  {
   "cell_type": "code",
   "execution_count": 345,
   "metadata": {},
   "outputs": [
    {
     "data": {
      "text/html": [
       "<div>\n",
       "<style scoped>\n",
       "    .dataframe tbody tr th:only-of-type {\n",
       "        vertical-align: middle;\n",
       "    }\n",
       "\n",
       "    .dataframe tbody tr th {\n",
       "        vertical-align: top;\n",
       "    }\n",
       "\n",
       "    .dataframe thead th {\n",
       "        text-align: right;\n",
       "    }\n",
       "</style>\n",
       "<table border=\"1\" class=\"dataframe\">\n",
       "  <thead>\n",
       "    <tr style=\"text-align: right;\">\n",
       "      <th></th>\n",
       "      <th>name</th>\n",
       "      <th>title</th>\n",
       "      <th>title2</th>\n",
       "      <th>title3</th>\n",
       "      <th>education</th>\n",
       "    </tr>\n",
       "  </thead>\n",
       "  <tbody>\n",
       "    <tr>\n",
       "      <th>188</th>\n",
       "      <td>Jeffries, Michael</td>\n",
       "      <td>Class of 1949 Professor in Ethics</td>\n",
       "      <td>Professor of American Studies</td>\n",
       "      <td>Dean of Academic Affairs</td>\n",
       "      <td>A.B., Swarthmore College; Ph.D., Harvard Unive...</td>\n",
       "    </tr>\n",
       "    <tr>\n",
       "      <th>301</th>\n",
       "      <td>Núñez, Megan</td>\n",
       "      <td>Nan Walsh Schow ‘54 and Howard B. Schow Profes...</td>\n",
       "      <td>Professor of Chemistry</td>\n",
       "      <td>Dean of Faculty Affairs</td>\n",
       "      <td>B.A., Smith College; Ph.D., California Institu...</td>\n",
       "    </tr>\n",
       "  </tbody>\n",
       "</table>\n",
       "</div>"
      ],
      "text/plain": [
       "                  name                                              title  \\\n",
       "188  Jeffries, Michael                  Class of 1949 Professor in Ethics   \n",
       "301       Núñez, Megan  Nan Walsh Schow ‘54 and Howard B. Schow Profes...   \n",
       "\n",
       "                            title2                    title3  \\\n",
       "188  Professor of American Studies  Dean of Academic Affairs   \n",
       "301         Professor of Chemistry   Dean of Faculty Affairs   \n",
       "\n",
       "                                             education  \n",
       "188  A.B., Swarthmore College; Ph.D., Harvard Unive...  \n",
       "301  B.A., Smith College; Ph.D., California Institu...  "
      ]
     },
     "execution_count": 345,
     "metadata": {},
     "output_type": "execute_result"
    }
   ],
   "source": [
    "# professors with multiple titles\n",
    "prof_df[prof_df['title3'].apply(lambda x: x != None)]"
   ]
  },
  {
   "cell_type": "markdown",
   "metadata": {},
   "source": [
    "Because the DOM of the webpage we scraped the information from does not have a uniform structure there are some entries that got messed up. Sometimes one part of the entry is in one row and the other in the next one. \n",
    "With the help of our function mergeCells we merge the data from cells that exhibit this problem. \n",
    "The following rows exhibit this issue:\n",
    "149 + 150, 154 + 155, 163 + 164, 168 + 169, and 181 + 182"
   ]
  },
  {
   "cell_type": "code",
   "execution_count": 346,
   "metadata": {},
   "outputs": [
    {
     "data": {
      "text/html": [
       "<div>\n",
       "<style scoped>\n",
       "    .dataframe tbody tr th:only-of-type {\n",
       "        vertical-align: middle;\n",
       "    }\n",
       "\n",
       "    .dataframe tbody tr th {\n",
       "        vertical-align: top;\n",
       "    }\n",
       "\n",
       "    .dataframe thead th {\n",
       "        text-align: right;\n",
       "    }\n",
       "</style>\n",
       "<table border=\"1\" class=\"dataframe\">\n",
       "  <thead>\n",
       "    <tr style=\"text-align: right;\">\n",
       "      <th></th>\n",
       "      <th>name</th>\n",
       "      <th>title</th>\n",
       "      <th>title2</th>\n",
       "      <th>title3</th>\n",
       "      <th>education</th>\n",
       "    </tr>\n",
       "  </thead>\n",
       "  <tbody>\n",
       "    <tr>\n",
       "      <th>149</th>\n",
       "      <td>Hajj, Nadya S.</td>\n",
       "      <td>Associate Professor of Peace &amp; Justice Studies</td>\n",
       "      <td>None</td>\n",
       "      <td>None</td>\n",
       "      <td>None</td>\n",
       "    </tr>\n",
       "    <tr>\n",
       "      <th>150</th>\n",
       "      <td>B.A., University of Virginia; M.A., Ph.D., Emo...</td>\n",
       "      <td>None</td>\n",
       "      <td>None</td>\n",
       "      <td>None</td>\n",
       "      <td>None</td>\n",
       "    </tr>\n",
       "    <tr>\n",
       "      <th>151</th>\n",
       "      <td>Hall, Katherine L.</td>\n",
       "      <td>Distinguished Senior Lecturer in Physics</td>\n",
       "      <td>None</td>\n",
       "      <td>None</td>\n",
       "      <td>B.A., Wellesley College; M.S., Ph.D., Massachu...</td>\n",
       "    </tr>\n",
       "    <tr>\n",
       "      <th>152</th>\n",
       "      <td>Hall, Mona Lambracht</td>\n",
       "      <td>Senior Instructor in Chemistry Laboratory</td>\n",
       "      <td>None</td>\n",
       "      <td>None</td>\n",
       "      <td>B.A., Russell Sage College; Ph.D., Tufts Unive...</td>\n",
       "    </tr>\n",
       "  </tbody>\n",
       "</table>\n",
       "</div>"
      ],
      "text/plain": [
       "                                                  name  \\\n",
       "149                                     Hajj, Nadya S.   \n",
       "150  B.A., University of Virginia; M.A., Ph.D., Emo...   \n",
       "151                                 Hall, Katherine L.   \n",
       "152                               Hall, Mona Lambracht   \n",
       "\n",
       "                                              title title2 title3  \\\n",
       "149  Associate Professor of Peace & Justice Studies   None   None   \n",
       "150                                            None   None   None   \n",
       "151        Distinguished Senior Lecturer in Physics   None   None   \n",
       "152       Senior Instructor in Chemistry Laboratory   None   None   \n",
       "\n",
       "                                             education  \n",
       "149                                               None  \n",
       "150                                               None  \n",
       "151  B.A., Wellesley College; M.S., Ph.D., Massachu...  \n",
       "152  B.A., Russell Sage College; Ph.D., Tufts Unive...  "
      ]
     },
     "execution_count": 346,
     "metadata": {},
     "output_type": "execute_result"
    }
   ],
   "source": [
    "# example of messed up entry\n",
    "prof_df[149:153]"
   ]
  },
  {
   "cell_type": "code",
   "execution_count": 347,
   "metadata": {},
   "outputs": [],
   "source": [
    "def mergeCells(df, indexList):\n",
    "    \"\"\" \n",
    "    given a dataframe and list of indexes of messed up rows, merges the row with the row below it \n",
    "    and returns the modified dataframe\n",
    "    \"\"\"\n",
    "    for index in indexList:\n",
    "        df['title'][index] = df['name'][index+1]\n",
    "        df['education'][index] = df['title'][index+1]\n",
    "    return df"
   ]
  },
  {
   "cell_type": "code",
   "execution_count": 348,
   "metadata": {},
   "outputs": [],
   "source": [
    "# merging Hajj, Nadya S.\n",
    "prof_df['education'][149] = prof_df['name'][150]\n",
    "\n",
    "\n",
    "# merging messed up rows\n",
    "current_prof = mergeCells(prof_df, [154,163,168,181])"
   ]
  },
  {
   "cell_type": "markdown",
   "metadata": {},
   "source": [
    "After having merged the cells we need to drop the unnecessary entries from our dataframe and reset the indeces. "
   ]
  },
  {
   "cell_type": "code",
   "execution_count": 349,
   "metadata": {},
   "outputs": [],
   "source": [
    "# drop unnecessary rows and reset index\n",
    "current_prof = current_prof.drop([150,155,164,169,182])\n",
    "current_prof = current_prof.reset_index(drop=True)"
   ]
  },
  {
   "cell_type": "code",
   "execution_count": 350,
   "metadata": {},
   "outputs": [
    {
     "data": {
      "text/html": [
       "<div>\n",
       "<style scoped>\n",
       "    .dataframe tbody tr th:only-of-type {\n",
       "        vertical-align: middle;\n",
       "    }\n",
       "\n",
       "    .dataframe tbody tr th {\n",
       "        vertical-align: top;\n",
       "    }\n",
       "\n",
       "    .dataframe thead th {\n",
       "        text-align: right;\n",
       "    }\n",
       "</style>\n",
       "<table border=\"1\" class=\"dataframe\">\n",
       "  <thead>\n",
       "    <tr style=\"text-align: right;\">\n",
       "      <th></th>\n",
       "      <th>name</th>\n",
       "      <th>title</th>\n",
       "      <th>title2</th>\n",
       "      <th>title3</th>\n",
       "      <th>education</th>\n",
       "    </tr>\n",
       "  </thead>\n",
       "  <tbody>\n",
       "    <tr>\n",
       "      <th>149</th>\n",
       "      <td>Hajj, Nadya S.</td>\n",
       "      <td>Associate Professor of Peace &amp; Justice Studies</td>\n",
       "      <td>None</td>\n",
       "      <td>None</td>\n",
       "      <td>B.A., University of Virginia; M.A., Ph.D., Emo...</td>\n",
       "    </tr>\n",
       "    <tr>\n",
       "      <th>150</th>\n",
       "      <td>Hall, Katherine L.</td>\n",
       "      <td>Distinguished Senior Lecturer in Physics</td>\n",
       "      <td>None</td>\n",
       "      <td>None</td>\n",
       "      <td>B.A., Wellesley College; M.S., Ph.D., Massachu...</td>\n",
       "    </tr>\n",
       "    <tr>\n",
       "      <th>151</th>\n",
       "      <td>Hall, Mona Lambracht</td>\n",
       "      <td>Senior Instructor in Chemistry Laboratory</td>\n",
       "      <td>None</td>\n",
       "      <td>None</td>\n",
       "      <td>B.A., Russell Sage College; Ph.D., Tufts Unive...</td>\n",
       "    </tr>\n",
       "    <tr>\n",
       "      <th>152</th>\n",
       "      <td>Hall, Nancy Abraham</td>\n",
       "      <td>Senior Lecturer in Spanish</td>\n",
       "      <td>None</td>\n",
       "      <td>None</td>\n",
       "      <td>B.A., Smith College; M.A., Ph.D., Harvard Univ...</td>\n",
       "    </tr>\n",
       "    <tr>\n",
       "      <th>153</th>\n",
       "      <td>Hamilton, Mark</td>\n",
       "      <td>Music Instructor in Trombone and Jazz Trombone</td>\n",
       "      <td>None</td>\n",
       "      <td>None</td>\n",
       "      <td>B.M. University of Delaware; M.Mus., New Engla...</td>\n",
       "    </tr>\n",
       "    <tr>\n",
       "      <th>...</th>\n",
       "      <td>...</td>\n",
       "      <td>...</td>\n",
       "      <td>...</td>\n",
       "      <td>...</td>\n",
       "      <td>...</td>\n",
       "    </tr>\n",
       "    <tr>\n",
       "      <th>446</th>\n",
       "      <td>Zeitlin, Paula</td>\n",
       "      <td>Senior Music Performance Faculty in Jazz Violi...</td>\n",
       "      <td>Director of Wellesley BlueJazz Combos</td>\n",
       "      <td>None</td>\n",
       "      <td>B.A., Earlham College; M.A., University of Chi...</td>\n",
       "    </tr>\n",
       "    <tr>\n",
       "      <th>447</th>\n",
       "      <td>Zhao, Weina</td>\n",
       "      <td>Senior Lecturer in Chinese</td>\n",
       "      <td>None</td>\n",
       "      <td>None</td>\n",
       "      <td>B.A., Nanjing University; M.A., Clark University</td>\n",
       "    </tr>\n",
       "    <tr>\n",
       "      <th>448</th>\n",
       "      <td>Zimmerman, Eve</td>\n",
       "      <td>Professor of Japanese</td>\n",
       "      <td>Director, The Suzy Newhouse Center for the Hum...</td>\n",
       "      <td>None</td>\n",
       "      <td>B.A., University of Pennsylvania; Ph.D., Colum...</td>\n",
       "    </tr>\n",
       "    <tr>\n",
       "      <th>449</th>\n",
       "      <td>Zipf, Lucy</td>\n",
       "      <td>Visiting Lecturer in Environmental Studies</td>\n",
       "      <td>None</td>\n",
       "      <td>None</td>\n",
       "      <td>Sc.B., Brown University</td>\n",
       "    </tr>\n",
       "    <tr>\n",
       "      <th>450</th>\n",
       "      <td>Zitnick, Dan</td>\n",
       "      <td>Lecturer in Middle Eastern Studies</td>\n",
       "      <td>None</td>\n",
       "      <td>None</td>\n",
       "      <td>B.A., M.A., University of Michigan</td>\n",
       "    </tr>\n",
       "  </tbody>\n",
       "</table>\n",
       "<p>302 rows × 5 columns</p>\n",
       "</div>"
      ],
      "text/plain": [
       "                     name                                              title  \\\n",
       "149        Hajj, Nadya S.     Associate Professor of Peace & Justice Studies   \n",
       "150    Hall, Katherine L.           Distinguished Senior Lecturer in Physics   \n",
       "151  Hall, Mona Lambracht          Senior Instructor in Chemistry Laboratory   \n",
       "152   Hall, Nancy Abraham                         Senior Lecturer in Spanish   \n",
       "153        Hamilton, Mark     Music Instructor in Trombone and Jazz Trombone   \n",
       "..                    ...                                                ...   \n",
       "446        Zeitlin, Paula  Senior Music Performance Faculty in Jazz Violi...   \n",
       "447           Zhao, Weina                         Senior Lecturer in Chinese   \n",
       "448        Zimmerman, Eve                              Professor of Japanese   \n",
       "449            Zipf, Lucy        Visiting Lecturer in Environmental Studies    \n",
       "450          Zitnick, Dan                Lecturer in Middle Eastern Studies    \n",
       "\n",
       "                                                title2 title3  \\\n",
       "149                                               None   None   \n",
       "150                                               None   None   \n",
       "151                                               None   None   \n",
       "152                                               None   None   \n",
       "153                                               None   None   \n",
       "..                                                 ...    ...   \n",
       "446              Director of Wellesley BlueJazz Combos   None   \n",
       "447                                               None   None   \n",
       "448  Director, The Suzy Newhouse Center for the Hum...   None   \n",
       "449                                               None   None   \n",
       "450                                               None   None   \n",
       "\n",
       "                                             education  \n",
       "149  B.A., University of Virginia; M.A., Ph.D., Emo...  \n",
       "150  B.A., Wellesley College; M.S., Ph.D., Massachu...  \n",
       "151  B.A., Russell Sage College; Ph.D., Tufts Unive...  \n",
       "152  B.A., Smith College; M.A., Ph.D., Harvard Univ...  \n",
       "153  B.M. University of Delaware; M.Mus., New Engla...  \n",
       "..                                                 ...  \n",
       "446  B.A., Earlham College; M.A., University of Chi...  \n",
       "447   B.A., Nanjing University; M.A., Clark University  \n",
       "448  B.A., University of Pennsylvania; Ph.D., Colum...  \n",
       "449                            Sc.B., Brown University  \n",
       "450                 B.A., M.A., University of Michigan  \n",
       "\n",
       "[302 rows x 5 columns]"
      ]
     },
     "execution_count": 350,
     "metadata": {},
     "output_type": "execute_result"
    }
   ],
   "source": [
    "# check if entries are cleaned \n",
    "current_prof[149:]"
   ]
  },
  {
   "cell_type": "markdown",
   "metadata": {},
   "source": [
    "After having done some preliminary cleaning we can save the dataframe to a csv file to avoid having to scrape the data each time we want to work with it."
   ]
  },
  {
   "cell_type": "code",
   "execution_count": 351,
   "metadata": {},
   "outputs": [],
   "source": [
    "# save to csv file for later\n",
    "current_prof.to_csv('faculty_info.csv')"
   ]
  },
  {
   "cell_type": "markdown",
   "metadata": {},
   "source": [
    "## 2. Exploring faculty education history\n",
    "Once the data has undergone some preliminary cleaning we can focus on exploring the educational paths faculty members took. The first step in this process involves cleaning the education entries in our dataframe. At the moment they include all education data as a string. However, the string format is not very useful, thus the first step is to split the educational entries by institution and in subsequent step extract the degrees and colleges attended."
   ]
  },
  {
   "cell_type": "code",
   "execution_count": 352,
   "metadata": {},
   "outputs": [],
   "source": [
    "# read data from saved csv file \n",
    "prof_df = pd.read_csv('faculty_info.csv',index_col=0)"
   ]
  },
  {
   "cell_type": "code",
   "execution_count": 353,
   "metadata": {},
   "outputs": [
    {
     "data": {
      "text/html": [
       "<div>\n",
       "<style scoped>\n",
       "    .dataframe tbody tr th:only-of-type {\n",
       "        vertical-align: middle;\n",
       "    }\n",
       "\n",
       "    .dataframe tbody tr th {\n",
       "        vertical-align: top;\n",
       "    }\n",
       "\n",
       "    .dataframe thead th {\n",
       "        text-align: right;\n",
       "    }\n",
       "</style>\n",
       "<table border=\"1\" class=\"dataframe\">\n",
       "  <thead>\n",
       "    <tr style=\"text-align: right;\">\n",
       "      <th></th>\n",
       "      <th>name</th>\n",
       "      <th>title</th>\n",
       "      <th>title2</th>\n",
       "      <th>title3</th>\n",
       "      <th>education</th>\n",
       "    </tr>\n",
       "  </thead>\n",
       "  <tbody>\n",
       "    <tr>\n",
       "      <th>0</th>\n",
       "      <td>Aadnani, Rachid</td>\n",
       "      <td>Senior Lecturer in Middle Eastern Studies</td>\n",
       "      <td>NaN</td>\n",
       "      <td>NaN</td>\n",
       "      <td>B.A., Universite Moulay Ismail (Morocco); M.A....</td>\n",
       "    </tr>\n",
       "    <tr>\n",
       "      <th>1</th>\n",
       "      <td>Abeberese, Ama Baafra</td>\n",
       "      <td>Assistant Professor of Economics</td>\n",
       "      <td>NaN</td>\n",
       "      <td>NaN</td>\n",
       "      <td>B.A., Wellesley College; M.A., M.Phil., Ph.D.,...</td>\n",
       "    </tr>\n",
       "    <tr>\n",
       "      <th>2</th>\n",
       "      <td>Adams, Kris</td>\n",
       "      <td>Senior Music Performance Faculty in Vocal Jazz</td>\n",
       "      <td>NaN</td>\n",
       "      <td>NaN</td>\n",
       "      <td>B.M., Berklee College of Music; M.M., New Engl...</td>\n",
       "    </tr>\n",
       "    <tr>\n",
       "      <th>3</th>\n",
       "      <td>Agosin, Marjorie</td>\n",
       "      <td>Professor of Spanish</td>\n",
       "      <td>NaN</td>\n",
       "      <td>NaN</td>\n",
       "      <td>B.A., University of Georgia; M.A., Ph.D., Indi...</td>\n",
       "    </tr>\n",
       "    <tr>\n",
       "      <th>4</th>\n",
       "      <td>Akahori, Eliko</td>\n",
       "      <td>Senior Music Performance Faculty in Piano</td>\n",
       "      <td>Director, Music Performance Program</td>\n",
       "      <td>NaN</td>\n",
       "      <td>B.M., Kunitachi College of Music (Japan); M.M....</td>\n",
       "    </tr>\n",
       "  </tbody>\n",
       "</table>\n",
       "</div>"
      ],
      "text/plain": [
       "                    name                                           title  \\\n",
       "0        Aadnani, Rachid       Senior Lecturer in Middle Eastern Studies   \n",
       "1  Abeberese, Ama Baafra                Assistant Professor of Economics   \n",
       "2            Adams, Kris  Senior Music Performance Faculty in Vocal Jazz   \n",
       "3       Agosin, Marjorie                            Professor of Spanish   \n",
       "4         Akahori, Eliko       Senior Music Performance Faculty in Piano   \n",
       "\n",
       "                                title2 title3  \\\n",
       "0                                  NaN    NaN   \n",
       "1                                  NaN    NaN   \n",
       "2                                  NaN    NaN   \n",
       "3                                  NaN    NaN   \n",
       "4  Director, Music Performance Program    NaN   \n",
       "\n",
       "                                           education  \n",
       "0  B.A., Universite Moulay Ismail (Morocco); M.A....  \n",
       "1  B.A., Wellesley College; M.A., M.Phil., Ph.D.,...  \n",
       "2  B.M., Berklee College of Music; M.M., New Engl...  \n",
       "3  B.A., University of Georgia; M.A., Ph.D., Indi...  \n",
       "4  B.M., Kunitachi College of Music (Japan); M.M....  "
      ]
     },
     "execution_count": 353,
     "metadata": {},
     "output_type": "execute_result"
    }
   ],
   "source": [
    "prof_df.head()"
   ]
  },
  {
   "cell_type": "code",
   "execution_count": 354,
   "metadata": {},
   "outputs": [
    {
     "data": {
      "text/plain": [
       "'B.A., Amherst College; M.S., Ph.D., University of Washington'"
      ]
     },
     "execution_count": 354,
     "metadata": {},
     "output_type": "execute_result"
    }
   ],
   "source": [
    "# example education entry\n",
    "prof_df['education'][400]"
   ]
  },
  {
   "cell_type": "code",
   "execution_count": 355,
   "metadata": {},
   "outputs": [],
   "source": [
    "def profEducationClean(prof):\n",
    "    \"\"\"\n",
    "    given the education of a professor returns a list of educational institution a person attended \n",
    "    along with the degree name\n",
    "    \"\"\"\n",
    "    if (prof != None) and type(prof) != float:\n",
    "        allEdu = prof.split(';') # split at ; indicating the start of new educational institution\n",
    "        return [item.strip() for item in allEdu]\n",
    "    return []"
   ]
  },
  {
   "cell_type": "code",
   "execution_count": 356,
   "metadata": {},
   "outputs": [],
   "source": [
    "# create a list of educational entries\n",
    "prof_df['edu_list']= prof_df['education'].apply(profEducationClean)"
   ]
  },
  {
   "cell_type": "markdown",
   "metadata": {},
   "source": [
    "### 2.1 Cleaning education data\n",
    "\n",
    "By looking at the length of the list of educational institutions, we can see that they range from 0 to 4. Meaning that we will want to create four additional columns to give room for each institution a person attended."
   ]
  },
  {
   "cell_type": "code",
   "execution_count": 357,
   "metadata": {},
   "outputs": [
    {
     "data": {
      "text/plain": [
       "array([3, 2, 1, 0, 4])"
      ]
     },
     "execution_count": 357,
     "metadata": {},
     "output_type": "execute_result"
    }
   ],
   "source": [
    "# number of educational institutions attended\n",
    "prof_df['edu_list'].apply(lambda x: len(x)).unique()"
   ]
  },
  {
   "cell_type": "code",
   "execution_count": 358,
   "metadata": {},
   "outputs": [],
   "source": [
    "def extractEducation(edu_data, num):\n",
    "    \"\"\"\n",
    "    given a dataset and number extracts that particular entry from our education data list\n",
    "    \"\"\"\n",
    "    if len(edu_data) < num:\n",
    "        return []\n",
    "    return [item.strip() for item in edu_data[num-1].split(',')]"
   ]
  },
  {
   "cell_type": "code",
   "execution_count": 359,
   "metadata": {},
   "outputs": [],
   "source": [
    "prof_df['edu1']= prof_df['edu_list'].apply(lambda x: extractEducation(x,1))\n",
    "prof_df['edu2']= prof_df['edu_list'].apply(lambda x: extractEducation(x,2))\n",
    "prof_df['edu3']= prof_df['edu_list'].apply(lambda x: extractEducation(x,3))\n",
    "prof_df['edu4']= prof_df['edu_list'].apply(lambda x: extractEducation(x,4))"
   ]
  },
  {
   "cell_type": "code",
   "execution_count": 360,
   "metadata": {},
   "outputs": [
    {
     "data": {
      "text/html": [
       "<div>\n",
       "<style scoped>\n",
       "    .dataframe tbody tr th:only-of-type {\n",
       "        vertical-align: middle;\n",
       "    }\n",
       "\n",
       "    .dataframe tbody tr th {\n",
       "        vertical-align: top;\n",
       "    }\n",
       "\n",
       "    .dataframe thead th {\n",
       "        text-align: right;\n",
       "    }\n",
       "</style>\n",
       "<table border=\"1\" class=\"dataframe\">\n",
       "  <thead>\n",
       "    <tr style=\"text-align: right;\">\n",
       "      <th></th>\n",
       "      <th>name</th>\n",
       "      <th>title</th>\n",
       "      <th>title2</th>\n",
       "      <th>title3</th>\n",
       "      <th>education</th>\n",
       "      <th>edu_list</th>\n",
       "      <th>edu1</th>\n",
       "      <th>edu2</th>\n",
       "      <th>edu3</th>\n",
       "      <th>edu4</th>\n",
       "    </tr>\n",
       "  </thead>\n",
       "  <tbody>\n",
       "    <tr>\n",
       "      <th>0</th>\n",
       "      <td>Aadnani, Rachid</td>\n",
       "      <td>Senior Lecturer in Middle Eastern Studies</td>\n",
       "      <td>NaN</td>\n",
       "      <td>NaN</td>\n",
       "      <td>B.A., Universite Moulay Ismail (Morocco); M.A....</td>\n",
       "      <td>[B.A., Universite Moulay Ismail (Morocco), M.A...</td>\n",
       "      <td>[B.A., Universite Moulay Ismail (Morocco)]</td>\n",
       "      <td>[M.A., Dartmouth College]</td>\n",
       "      <td>[Ph.D., Binghamton University]</td>\n",
       "      <td>[]</td>\n",
       "    </tr>\n",
       "    <tr>\n",
       "      <th>1</th>\n",
       "      <td>Abeberese, Ama Baafra</td>\n",
       "      <td>Assistant Professor of Economics</td>\n",
       "      <td>NaN</td>\n",
       "      <td>NaN</td>\n",
       "      <td>B.A., Wellesley College; M.A., M.Phil., Ph.D.,...</td>\n",
       "      <td>[B.A., Wellesley College, M.A., M.Phil., Ph.D....</td>\n",
       "      <td>[B.A., Wellesley College]</td>\n",
       "      <td>[M.A., M.Phil., Ph.D., Columbia University]</td>\n",
       "      <td>[]</td>\n",
       "      <td>[]</td>\n",
       "    </tr>\n",
       "    <tr>\n",
       "      <th>2</th>\n",
       "      <td>Adams, Kris</td>\n",
       "      <td>Senior Music Performance Faculty in Vocal Jazz</td>\n",
       "      <td>NaN</td>\n",
       "      <td>NaN</td>\n",
       "      <td>B.M., Berklee College of Music; M.M., New Engl...</td>\n",
       "      <td>[B.M., Berklee College of Music, M.M., New Eng...</td>\n",
       "      <td>[B.M., Berklee College of Music]</td>\n",
       "      <td>[M.M., New England Conservatory of Music]</td>\n",
       "      <td>[]</td>\n",
       "      <td>[]</td>\n",
       "    </tr>\n",
       "    <tr>\n",
       "      <th>3</th>\n",
       "      <td>Agosin, Marjorie</td>\n",
       "      <td>Professor of Spanish</td>\n",
       "      <td>NaN</td>\n",
       "      <td>NaN</td>\n",
       "      <td>B.A., University of Georgia; M.A., Ph.D., Indi...</td>\n",
       "      <td>[B.A., University of Georgia, M.A., Ph.D., Ind...</td>\n",
       "      <td>[B.A., University of Georgia]</td>\n",
       "      <td>[M.A., Ph.D., Indiana University]</td>\n",
       "      <td>[]</td>\n",
       "      <td>[]</td>\n",
       "    </tr>\n",
       "    <tr>\n",
       "      <th>4</th>\n",
       "      <td>Akahori, Eliko</td>\n",
       "      <td>Senior Music Performance Faculty in Piano</td>\n",
       "      <td>Director, Music Performance Program</td>\n",
       "      <td>NaN</td>\n",
       "      <td>B.M., Kunitachi College of Music (Japan); M.M....</td>\n",
       "      <td>[B.M., Kunitachi College of Music (Japan), M.M...</td>\n",
       "      <td>[B.M., Kunitachi College of Music (Japan)]</td>\n",
       "      <td>[M.M., D.M.A., New England Conservatory of Music]</td>\n",
       "      <td>[]</td>\n",
       "      <td>[]</td>\n",
       "    </tr>\n",
       "  </tbody>\n",
       "</table>\n",
       "</div>"
      ],
      "text/plain": [
       "                    name                                           title  \\\n",
       "0        Aadnani, Rachid       Senior Lecturer in Middle Eastern Studies   \n",
       "1  Abeberese, Ama Baafra                Assistant Professor of Economics   \n",
       "2            Adams, Kris  Senior Music Performance Faculty in Vocal Jazz   \n",
       "3       Agosin, Marjorie                            Professor of Spanish   \n",
       "4         Akahori, Eliko       Senior Music Performance Faculty in Piano   \n",
       "\n",
       "                                title2 title3  \\\n",
       "0                                  NaN    NaN   \n",
       "1                                  NaN    NaN   \n",
       "2                                  NaN    NaN   \n",
       "3                                  NaN    NaN   \n",
       "4  Director, Music Performance Program    NaN   \n",
       "\n",
       "                                           education  \\\n",
       "0  B.A., Universite Moulay Ismail (Morocco); M.A....   \n",
       "1  B.A., Wellesley College; M.A., M.Phil., Ph.D.,...   \n",
       "2  B.M., Berklee College of Music; M.M., New Engl...   \n",
       "3  B.A., University of Georgia; M.A., Ph.D., Indi...   \n",
       "4  B.M., Kunitachi College of Music (Japan); M.M....   \n",
       "\n",
       "                                            edu_list  \\\n",
       "0  [B.A., Universite Moulay Ismail (Morocco), M.A...   \n",
       "1  [B.A., Wellesley College, M.A., M.Phil., Ph.D....   \n",
       "2  [B.M., Berklee College of Music, M.M., New Eng...   \n",
       "3  [B.A., University of Georgia, M.A., Ph.D., Ind...   \n",
       "4  [B.M., Kunitachi College of Music (Japan), M.M...   \n",
       "\n",
       "                                         edu1  \\\n",
       "0  [B.A., Universite Moulay Ismail (Morocco)]   \n",
       "1                   [B.A., Wellesley College]   \n",
       "2            [B.M., Berklee College of Music]   \n",
       "3               [B.A., University of Georgia]   \n",
       "4  [B.M., Kunitachi College of Music (Japan)]   \n",
       "\n",
       "                                                edu2  \\\n",
       "0                          [M.A., Dartmouth College]   \n",
       "1        [M.A., M.Phil., Ph.D., Columbia University]   \n",
       "2          [M.M., New England Conservatory of Music]   \n",
       "3                  [M.A., Ph.D., Indiana University]   \n",
       "4  [M.M., D.M.A., New England Conservatory of Music]   \n",
       "\n",
       "                             edu3 edu4  \n",
       "0  [Ph.D., Binghamton University]   []  \n",
       "1                              []   []  \n",
       "2                              []   []  \n",
       "3                              []   []  \n",
       "4                              []   []  "
      ]
     },
     "execution_count": 360,
     "metadata": {},
     "output_type": "execute_result"
    }
   ],
   "source": [
    "# updated dataframe with extracted education information\n",
    "prof_df.head()"
   ]
  },
  {
   "cell_type": "markdown",
   "metadata": {},
   "source": [
    "### 2.2 Extracting degrees and colleges\n",
    "\n",
    "After having extracted each institution from the education information for each professor we can now move on to looking at the degrees and colleges each individual attended to allow for comparison among faculty and find the most popular degrees and institutions."
   ]
  },
  {
   "cell_type": "code",
   "execution_count": 361,
   "metadata": {},
   "outputs": [],
   "source": [
    "# different designations of degrees and colleges\n",
    "bachelor = ['A.B.','B.A.', 'B.S.','B.Math.','B.M.','B.Mus.', 'B.E.D.','Sc.B.','B.E.','B.F.A.']\n",
    "masters = ['M.A.','M.Ed.', 'M.Phil.','A.M.','M.S.', 'M.Sc.','M.M.','Ed.M.','M.F.A.','M.P.','M.Mus.','MFA.']\n",
    "phd = ['Ph.D', 'D.M.A.','Ph.D.','J.D.']\n",
    "university = ['University','Universite','College', 'School','Institute','Conservatory','Academy', 'Museum']"
   ]
  },
  {
   "cell_type": "code",
   "execution_count": 362,
   "metadata": {},
   "outputs": [],
   "source": [
    "def eduEntryClean(entry):\n",
    "    \"\"\"\n",
    "    helper function that given an education entry splits it into colleges and degrees and returns a \n",
    "    tuple of college names and degree names a person obtained\n",
    "    \"\"\"\n",
    "    colleges = []\n",
    "    degrees = []\n",
    "    if len(entry) == 0:\n",
    "        return ([],[])\n",
    "    for edu in entry:\n",
    "        if edu in bachelor:\n",
    "            degrees.append(edu)\n",
    "        elif edu in masters:\n",
    "            degrees.append(edu)\n",
    "        elif edu in phd:\n",
    "            degrees.append(edu)\n",
    "        else:\n",
    "            for uni in university:\n",
    "                if uni in edu:\n",
    "                    colleges.append(edu)\n",
    "    return (colleges, degrees)"
   ]
  },
  {
   "cell_type": "code",
   "execution_count": 363,
   "metadata": {},
   "outputs": [
    {
     "data": {
      "text/plain": [
       "(['Universite Moulay Ismail (Morocco)'], ['B.A.'])"
      ]
     },
     "execution_count": 363,
     "metadata": {},
     "output_type": "execute_result"
    }
   ],
   "source": [
    "# example of our eduEntryClean function\n",
    "eduEntryClean(prof_df['edu1'][0])"
   ]
  },
  {
   "cell_type": "code",
   "execution_count": 364,
   "metadata": {},
   "outputs": [],
   "source": [
    "def cleanEducation(person):\n",
    "    \"\"\"\n",
    "    given a person's dataframe entry, goes through all of their education data\n",
    "    and returns a tuple of all colleges attended and degrees obtained\n",
    "    \"\"\"\n",
    "    eduEntries = [person['edu1'],person['edu2'],person['edu3'],person['edu4']]\n",
    "    colleges = []\n",
    "    degrees = []\n",
    "    for entry in eduEntries:\n",
    "        clean_entry = eduEntryClean(entry)\n",
    "        colleges += clean_entry[0]\n",
    "        degrees += clean_entry[1]\n",
    "    return (colleges,degrees)"
   ]
  },
  {
   "cell_type": "code",
   "execution_count": 365,
   "metadata": {},
   "outputs": [
    {
     "data": {
      "text/plain": [
       "(['Wellesley College', 'Harvard Law School', 'Boston University'],\n",
       " ['B.A.', 'J.D.', 'Ph.D.'])"
      ]
     },
     "execution_count": 365,
     "metadata": {},
     "output_type": "execute_result"
    }
   ],
   "source": [
    "# example output for the cleanEducation function\n",
    "cleanEducation(prof_df.iloc[337])"
   ]
  },
  {
   "cell_type": "code",
   "execution_count": 366,
   "metadata": {},
   "outputs": [],
   "source": [
    "# clean education for all rows\n",
    "eduData = prof_df.apply(cleanEducation,axis=1)"
   ]
  },
  {
   "cell_type": "code",
   "execution_count": 367,
   "metadata": {},
   "outputs": [],
   "source": [
    "# save college and degree data in new columns\n",
    "prof_df['colleges'] = eduData.apply(lambda x: x[0])\n",
    "prof_df['degrees'] = eduData.apply(lambda x: x[1])"
   ]
  },
  {
   "cell_type": "code",
   "execution_count": 368,
   "metadata": {},
   "outputs": [
    {
     "data": {
      "text/html": [
       "<div>\n",
       "<style scoped>\n",
       "    .dataframe tbody tr th:only-of-type {\n",
       "        vertical-align: middle;\n",
       "    }\n",
       "\n",
       "    .dataframe tbody tr th {\n",
       "        vertical-align: top;\n",
       "    }\n",
       "\n",
       "    .dataframe thead th {\n",
       "        text-align: right;\n",
       "    }\n",
       "</style>\n",
       "<table border=\"1\" class=\"dataframe\">\n",
       "  <thead>\n",
       "    <tr style=\"text-align: right;\">\n",
       "      <th></th>\n",
       "      <th>name</th>\n",
       "      <th>title</th>\n",
       "      <th>title2</th>\n",
       "      <th>title3</th>\n",
       "      <th>education</th>\n",
       "      <th>edu_list</th>\n",
       "      <th>edu1</th>\n",
       "      <th>edu2</th>\n",
       "      <th>edu3</th>\n",
       "      <th>edu4</th>\n",
       "      <th>colleges</th>\n",
       "      <th>degrees</th>\n",
       "    </tr>\n",
       "  </thead>\n",
       "  <tbody>\n",
       "    <tr>\n",
       "      <th>446</th>\n",
       "      <td>Zeitlin, Paula</td>\n",
       "      <td>Senior Music Performance Faculty in Jazz Violi...</td>\n",
       "      <td>Director of Wellesley BlueJazz Combos</td>\n",
       "      <td>NaN</td>\n",
       "      <td>B.A., Earlham College; M.A., University of Chi...</td>\n",
       "      <td>[B.A., Earlham College, M.A., University of Ch...</td>\n",
       "      <td>[B.A., Earlham College]</td>\n",
       "      <td>[M.A., University of Chicago]</td>\n",
       "      <td>[]</td>\n",
       "      <td>[]</td>\n",
       "      <td>[Earlham College, University of Chicago]</td>\n",
       "      <td>[B.A., M.A.]</td>\n",
       "    </tr>\n",
       "    <tr>\n",
       "      <th>447</th>\n",
       "      <td>Zhao, Weina</td>\n",
       "      <td>Senior Lecturer in Chinese</td>\n",
       "      <td>NaN</td>\n",
       "      <td>NaN</td>\n",
       "      <td>B.A., Nanjing University; M.A., Clark University</td>\n",
       "      <td>[B.A., Nanjing University, M.A., Clark Univers...</td>\n",
       "      <td>[B.A., Nanjing University]</td>\n",
       "      <td>[M.A., Clark University]</td>\n",
       "      <td>[]</td>\n",
       "      <td>[]</td>\n",
       "      <td>[Nanjing University, Clark University]</td>\n",
       "      <td>[B.A., M.A.]</td>\n",
       "    </tr>\n",
       "    <tr>\n",
       "      <th>448</th>\n",
       "      <td>Zimmerman, Eve</td>\n",
       "      <td>Professor of Japanese</td>\n",
       "      <td>Director, The Suzy Newhouse Center for the Hum...</td>\n",
       "      <td>NaN</td>\n",
       "      <td>B.A., University of Pennsylvania; Ph.D., Colum...</td>\n",
       "      <td>[B.A., University of Pennsylvania, Ph.D., Colu...</td>\n",
       "      <td>[B.A., University of Pennsylvania]</td>\n",
       "      <td>[Ph.D., Columbia University]</td>\n",
       "      <td>[]</td>\n",
       "      <td>[]</td>\n",
       "      <td>[University of Pennsylvania, Columbia University]</td>\n",
       "      <td>[B.A., Ph.D.]</td>\n",
       "    </tr>\n",
       "    <tr>\n",
       "      <th>449</th>\n",
       "      <td>Zipf, Lucy</td>\n",
       "      <td>Visiting Lecturer in Environmental Studies</td>\n",
       "      <td>NaN</td>\n",
       "      <td>NaN</td>\n",
       "      <td>Sc.B., Brown University</td>\n",
       "      <td>[Sc.B., Brown University]</td>\n",
       "      <td>[Sc.B., Brown University]</td>\n",
       "      <td>[]</td>\n",
       "      <td>[]</td>\n",
       "      <td>[]</td>\n",
       "      <td>[Brown University]</td>\n",
       "      <td>[Sc.B.]</td>\n",
       "    </tr>\n",
       "    <tr>\n",
       "      <th>450</th>\n",
       "      <td>Zitnick, Dan</td>\n",
       "      <td>Lecturer in Middle Eastern Studies</td>\n",
       "      <td>NaN</td>\n",
       "      <td>NaN</td>\n",
       "      <td>B.A., M.A., University of Michigan</td>\n",
       "      <td>[B.A., M.A., University of Michigan]</td>\n",
       "      <td>[B.A., M.A., University of Michigan]</td>\n",
       "      <td>[]</td>\n",
       "      <td>[]</td>\n",
       "      <td>[]</td>\n",
       "      <td>[University of Michigan]</td>\n",
       "      <td>[B.A., M.A.]</td>\n",
       "    </tr>\n",
       "  </tbody>\n",
       "</table>\n",
       "</div>"
      ],
      "text/plain": [
       "               name                                              title  \\\n",
       "446  Zeitlin, Paula  Senior Music Performance Faculty in Jazz Violi...   \n",
       "447     Zhao, Weina                         Senior Lecturer in Chinese   \n",
       "448  Zimmerman, Eve                              Professor of Japanese   \n",
       "449      Zipf, Lucy        Visiting Lecturer in Environmental Studies    \n",
       "450    Zitnick, Dan                Lecturer in Middle Eastern Studies    \n",
       "\n",
       "                                                title2 title3  \\\n",
       "446              Director of Wellesley BlueJazz Combos    NaN   \n",
       "447                                                NaN    NaN   \n",
       "448  Director, The Suzy Newhouse Center for the Hum...    NaN   \n",
       "449                                                NaN    NaN   \n",
       "450                                                NaN    NaN   \n",
       "\n",
       "                                             education  \\\n",
       "446  B.A., Earlham College; M.A., University of Chi...   \n",
       "447   B.A., Nanjing University; M.A., Clark University   \n",
       "448  B.A., University of Pennsylvania; Ph.D., Colum...   \n",
       "449                            Sc.B., Brown University   \n",
       "450                 B.A., M.A., University of Michigan   \n",
       "\n",
       "                                              edu_list  \\\n",
       "446  [B.A., Earlham College, M.A., University of Ch...   \n",
       "447  [B.A., Nanjing University, M.A., Clark Univers...   \n",
       "448  [B.A., University of Pennsylvania, Ph.D., Colu...   \n",
       "449                          [Sc.B., Brown University]   \n",
       "450               [B.A., M.A., University of Michigan]   \n",
       "\n",
       "                                     edu1                           edu2 edu3  \\\n",
       "446               [B.A., Earlham College]  [M.A., University of Chicago]   []   \n",
       "447            [B.A., Nanjing University]       [M.A., Clark University]   []   \n",
       "448    [B.A., University of Pennsylvania]   [Ph.D., Columbia University]   []   \n",
       "449             [Sc.B., Brown University]                             []   []   \n",
       "450  [B.A., M.A., University of Michigan]                             []   []   \n",
       "\n",
       "    edu4                                           colleges        degrees  \n",
       "446   []           [Earlham College, University of Chicago]   [B.A., M.A.]  \n",
       "447   []             [Nanjing University, Clark University]   [B.A., M.A.]  \n",
       "448   []  [University of Pennsylvania, Columbia University]  [B.A., Ph.D.]  \n",
       "449   []                                 [Brown University]        [Sc.B.]  \n",
       "450   []                           [University of Michigan]   [B.A., M.A.]  "
      ]
     },
     "execution_count": 368,
     "metadata": {},
     "output_type": "execute_result"
    }
   ],
   "source": [
    "# updated dataframe with degrees and colleges list\n",
    "prof_df.tail()"
   ]
  },
  {
   "cell_type": "markdown",
   "metadata": {},
   "source": [
    "### 2.3 Cleaning colleges information \n",
    "Looking at the colleges information we see that some people have their home institution Harvard labeled as Harvard University and others going by Harvard College. In both cases one is referring to the same institution. Therefore we normalize these entries by renaming entries. "
   ]
  },
  {
   "cell_type": "code",
   "execution_count": 369,
   "metadata": {},
   "outputs": [],
   "source": [
    "def cleanColleges(collegeList):\n",
    "    \"\"\"\n",
    "    given a list of colleges checks if harvard is in the name and changes the name to harvard university\n",
    "    \"\"\"\n",
    "    cleanedColleges = []\n",
    "    for college in collegeList:\n",
    "        if (\"Harvard\" in college) and college != 'Harvard University Extension School':\n",
    "            cleanedColleges.append('Harvard University')\n",
    "        else:\n",
    "            cleanedColleges.append(college)\n",
    "    return cleanedColleges"
   ]
  },
  {
   "cell_type": "code",
   "execution_count": 370,
   "metadata": {},
   "outputs": [],
   "source": [
    "# create new column with cleaned college names\n",
    "prof_df['colleges_clean'] = prof_df['colleges'].apply(cleanColleges)"
   ]
  },
  {
   "cell_type": "markdown",
   "metadata": {},
   "source": [
    "Using the cleaned list of colleges we can now start visualizing the results and find out which institutions are the most popular among faculty members."
   ]
  },
  {
   "cell_type": "code",
   "execution_count": 371,
   "metadata": {},
   "outputs": [],
   "source": [
    "# convert the colleges column to a list\n",
    "colleges_list = list(prof_df['colleges_clean'])\n",
    "all_colleges_list = [item for sublist in colleges_list for item in sublist]"
   ]
  },
  {
   "cell_type": "code",
   "execution_count": 372,
   "metadata": {},
   "outputs": [],
   "source": [
    "# create counter of all colleges and their frequency \n",
    "uni_counter = Counter(all_colleges_list)"
   ]
  },
  {
   "cell_type": "code",
   "execution_count": 373,
   "metadata": {},
   "outputs": [
    {
     "data": {
      "text/plain": [
       "[('Harvard University', 72),\n",
       " ('Yale University', 30),\n",
       " ('Wellesley College', 27),\n",
       " ('Massachusetts Institute of Technology', 24),\n",
       " ('University of California (Berkeley)', 24),\n",
       " ('Princeton University', 22),\n",
       " ('Columbia University', 21),\n",
       " ('Stanford University', 18),\n",
       " ('New England Conservatory of Music', 15),\n",
       " ('University of Chicago', 15),\n",
       " ('Brown University', 14),\n",
       " ('Boston University', 13),\n",
       " ('Cornell University', 12),\n",
       " ('University of Michigan', 11),\n",
       " ('University of Wisconsin (Madison)', 11),\n",
       " ('Tufts University', 10),\n",
       " ('University of California (Los Angeles)', 10),\n",
       " ('Brandeis University', 10),\n",
       " ('New York University', 9),\n",
       " ('University of Virginia', 9),\n",
       " ('Johns Hopkins University', 8),\n",
       " ('Smith College', 8),\n",
       " ('University of Massachusetts (Amherst)', 7),\n",
       " ('University of Pennsylvania', 7),\n",
       " ('Wesleyan University', 7)]"
      ]
     },
     "execution_count": 373,
     "metadata": {},
     "output_type": "execute_result"
    }
   ],
   "source": [
    "# most common universities\n",
    "uni_counter.most_common(25)"
   ]
  },
  {
   "cell_type": "code",
   "execution_count": 374,
   "metadata": {},
   "outputs": [
    {
     "data": {
      "text/html": [
       "<div>\n",
       "<style scoped>\n",
       "    .dataframe tbody tr th:only-of-type {\n",
       "        vertical-align: middle;\n",
       "    }\n",
       "\n",
       "    .dataframe tbody tr th {\n",
       "        vertical-align: top;\n",
       "    }\n",
       "\n",
       "    .dataframe thead th {\n",
       "        text-align: right;\n",
       "    }\n",
       "</style>\n",
       "<table border=\"1\" class=\"dataframe\">\n",
       "  <thead>\n",
       "    <tr style=\"text-align: right;\">\n",
       "      <th></th>\n",
       "      <th>university</th>\n",
       "      <th>count</th>\n",
       "    </tr>\n",
       "  </thead>\n",
       "  <tbody>\n",
       "    <tr>\n",
       "      <th>0</th>\n",
       "      <td>Harvard University</td>\n",
       "      <td>72</td>\n",
       "    </tr>\n",
       "    <tr>\n",
       "      <th>1</th>\n",
       "      <td>Yale University</td>\n",
       "      <td>30</td>\n",
       "    </tr>\n",
       "    <tr>\n",
       "      <th>2</th>\n",
       "      <td>Wellesley College</td>\n",
       "      <td>27</td>\n",
       "    </tr>\n",
       "    <tr>\n",
       "      <th>3</th>\n",
       "      <td>Massachusetts Institute of Technology</td>\n",
       "      <td>24</td>\n",
       "    </tr>\n",
       "    <tr>\n",
       "      <th>4</th>\n",
       "      <td>University of California (Berkeley)</td>\n",
       "      <td>24</td>\n",
       "    </tr>\n",
       "  </tbody>\n",
       "</table>\n",
       "</div>"
      ],
      "text/plain": [
       "                              university  count\n",
       "0                     Harvard University     72\n",
       "1                        Yale University     30\n",
       "2                      Wellesley College     27\n",
       "3  Massachusetts Institute of Technology     24\n",
       "4    University of California (Berkeley)     24"
      ]
     },
     "execution_count": 374,
     "metadata": {},
     "output_type": "execute_result"
    }
   ],
   "source": [
    "# create dataframe with most common universities\n",
    "topUnis = pd.DataFrame(uni_counter.most_common(20),\n",
    "                             columns=['university', 'count'])\n",
    "topUnis.head()"
   ]
  },
  {
   "cell_type": "markdown",
   "metadata": {},
   "source": [
    "As we can see the top institutions attended by Wellesley faculty include Harvard, Yale and Wellesley. \n",
    "The following shows the top 20 institutions that Wellesley faculty attended."
   ]
  },
  {
   "cell_type": "code",
   "execution_count": 375,
   "metadata": {},
   "outputs": [],
   "source": [
    "def plotInfo(dataframe, title, x_axis, plot_color='salmon', hplot=True):\n",
    "    \"\"\"\n",
    "    plots information from a dataframe, with a given color, title and x-axis \n",
    "    \"\"\"\n",
    "\n",
    "    fig, ax = plt.subplots(figsize=(8, 8))\n",
    "    \n",
    "    if hplot == True:\n",
    "        # Plot horizontal bar graph\n",
    "        dataframe.sort_values(by='count').plot.barh(x=x_axis,\n",
    "                      y='count',\n",
    "                      ax=ax,\n",
    "                      color=plot_color)\n",
    "    else:\n",
    "        dataframe.sort_values(by='count').plot.bar(x=x_axis,\n",
    "                      y='count',\n",
    "                      ax=ax,\n",
    "                      color=plot_color)\n",
    "\n",
    "    ax.set_title(title)\n",
    "\n",
    "    plt.show()"
   ]
  },
  {
   "cell_type": "code",
   "execution_count": 376,
   "metadata": {},
   "outputs": [
    {
     "data": {
      "image/png": "[encoded data removed]",
      "text/plain": [
       "<Figure size 576x576 with 1 Axes>"
      ]
     },
     "metadata": {},
     "output_type": "display_data"
    }
   ],
   "source": [
    "plotInfo(topUnis, 'Top universities attended by faculty members','university')"
   ]
  },
  {
   "cell_type": "markdown",
   "metadata": {},
   "source": [
    "### 2.4 Cleaning and visualizing degree data\n",
    "There are multiple labels used to describe the same degree. For example B.A. and A.B. are the same thing, but show up as two different degrees. However, since we want to count them as the same degree we go through all degrees and rename them to have a uniform naming convention."
   ]
  },
  {
   "cell_type": "code",
   "execution_count": 377,
   "metadata": {},
   "outputs": [],
   "source": [
    "def cleanDegrees(degreeList):\n",
    "    \"\"\"\n",
    "    given a list of degrees renames degrees that are equivalent and returns a list of cleaned degrees\n",
    "    \"\"\"\n",
    "    degreesCleaned = []\n",
    "    arts_bachelor = ['B.A.', 'A.B.', ]\n",
    "    music_bachelor = ['B.M.', 'B.Mus.']\n",
    "    science_bachelor = ['B.S.','Sc.B.']\n",
    "    arts_master = ['M.A.','A.M.']\n",
    "    music_master = ['M.M.','M.Mus.']\n",
    "    science_master = ['M.Sc.','M.S.']\n",
    "    edu_master = ['M.Ed.','Ed.M.']\n",
    "    phd = ['Ph.D.','Ph.D']\n",
    "    mfa = ['MFA.','M.F.A.']\n",
    "    for degree in degreeList:\n",
    "        if degree in arts_bachelor:\n",
    "            degreesCleaned.append('B.A.')\n",
    "        elif degree in music_bachelor:\n",
    "            degreesCleaned.append('B.M.')\n",
    "        elif degree in science_bachelor:\n",
    "            degreesCleaned.append('B.S.')\n",
    "        elif degree in arts_master:\n",
    "            degreesCleaned.append('M.A.')\n",
    "        elif degree in music_master:\n",
    "            degreesCleaned.append('M.M.')\n",
    "        elif degree in science_master:\n",
    "            degreesCleaned.append('M.S.')\n",
    "        elif degree in edu_master:\n",
    "            degreesCleaned.append('M.Ed.')\n",
    "        elif degree in phd:\n",
    "            degreesCleaned.append('Ph.D.')\n",
    "        elif degree in mfa:\n",
    "            degreesCleaned.append('M.F.A.')\n",
    "        else:\n",
    "            degreesCleaned.append(degree)\n",
    "    return degreesCleaned"
   ]
  },
  {
   "cell_type": "code",
   "execution_count": 378,
   "metadata": {},
   "outputs": [
    {
     "data": {
      "text/plain": [
       "['A.M.', 'Ph.D.']"
      ]
     },
     "execution_count": 378,
     "metadata": {},
     "output_type": "execute_result"
    }
   ],
   "source": [
    "# example of degrees before cleaning\n",
    "prof_df['degrees'][106]"
   ]
  },
  {
   "cell_type": "code",
   "execution_count": 379,
   "metadata": {},
   "outputs": [
    {
     "data": {
      "text/plain": [
       "['M.A.', 'Ph.D.']"
      ]
     },
     "execution_count": 379,
     "metadata": {},
     "output_type": "execute_result"
    }
   ],
   "source": [
    "# example of degrees after cleaning\n",
    "cleanDegrees(prof_df['degrees'][106])"
   ]
  },
  {
   "cell_type": "code",
   "execution_count": 380,
   "metadata": {},
   "outputs": [],
   "source": [
    "# clean degree names\n",
    "prof_df['degrees_cleaned'] = prof_df['degrees'].apply(cleanDegrees)"
   ]
  },
  {
   "cell_type": "code",
   "execution_count": 381,
   "metadata": {},
   "outputs": [],
   "source": [
    "# create list of all degrees\n",
    "degrees_list = list(prof_df['degrees_cleaned'])\n",
    "flat_degrees_list = [item for sublist in degrees_list for item in sublist]"
   ]
  },
  {
   "cell_type": "code",
   "execution_count": 382,
   "metadata": {},
   "outputs": [],
   "source": [
    "# create counter with all degrees\n",
    "degree_counter = Counter(flat_degrees_list)"
   ]
  },
  {
   "cell_type": "code",
   "execution_count": 385,
   "metadata": {},
   "outputs": [
    {
     "data": {
      "text/html": [
       "<div>\n",
       "<style scoped>\n",
       "    .dataframe tbody tr th:only-of-type {\n",
       "        vertical-align: middle;\n",
       "    }\n",
       "\n",
       "    .dataframe tbody tr th {\n",
       "        vertical-align: top;\n",
       "    }\n",
       "\n",
       "    .dataframe thead th {\n",
       "        text-align: right;\n",
       "    }\n",
       "</style>\n",
       "<table border=\"1\" class=\"dataframe\">\n",
       "  <thead>\n",
       "    <tr style=\"text-align: right;\">\n",
       "      <th></th>\n",
       "      <th>degree</th>\n",
       "      <th>count</th>\n",
       "    </tr>\n",
       "  </thead>\n",
       "  <tbody>\n",
       "    <tr>\n",
       "      <th>0</th>\n",
       "      <td>B.A.</td>\n",
       "      <td>323</td>\n",
       "    </tr>\n",
       "    <tr>\n",
       "      <th>1</th>\n",
       "      <td>Ph.D.</td>\n",
       "      <td>312</td>\n",
       "    </tr>\n",
       "    <tr>\n",
       "      <th>2</th>\n",
       "      <td>M.A.</td>\n",
       "      <td>210</td>\n",
       "    </tr>\n",
       "    <tr>\n",
       "      <th>3</th>\n",
       "      <td>B.S.</td>\n",
       "      <td>71</td>\n",
       "    </tr>\n",
       "    <tr>\n",
       "      <th>4</th>\n",
       "      <td>M.S.</td>\n",
       "      <td>65</td>\n",
       "    </tr>\n",
       "    <tr>\n",
       "      <th>5</th>\n",
       "      <td>M.M.</td>\n",
       "      <td>29</td>\n",
       "    </tr>\n",
       "    <tr>\n",
       "      <th>6</th>\n",
       "      <td>M.Phil.</td>\n",
       "      <td>23</td>\n",
       "    </tr>\n",
       "    <tr>\n",
       "      <th>7</th>\n",
       "      <td>B.M.</td>\n",
       "      <td>23</td>\n",
       "    </tr>\n",
       "    <tr>\n",
       "      <th>8</th>\n",
       "      <td>M.Ed.</td>\n",
       "      <td>17</td>\n",
       "    </tr>\n",
       "    <tr>\n",
       "      <th>9</th>\n",
       "      <td>M.F.A.</td>\n",
       "      <td>14</td>\n",
       "    </tr>\n",
       "    <tr>\n",
       "      <th>10</th>\n",
       "      <td>D.M.A.</td>\n",
       "      <td>6</td>\n",
       "    </tr>\n",
       "    <tr>\n",
       "      <th>11</th>\n",
       "      <td>J.D.</td>\n",
       "      <td>4</td>\n",
       "    </tr>\n",
       "    <tr>\n",
       "      <th>12</th>\n",
       "      <td>B.F.A.</td>\n",
       "      <td>4</td>\n",
       "    </tr>\n",
       "    <tr>\n",
       "      <th>13</th>\n",
       "      <td>M.P.</td>\n",
       "      <td>1</td>\n",
       "    </tr>\n",
       "    <tr>\n",
       "      <th>14</th>\n",
       "      <td>B.E.D.</td>\n",
       "      <td>1</td>\n",
       "    </tr>\n",
       "    <tr>\n",
       "      <th>15</th>\n",
       "      <td>B.E.</td>\n",
       "      <td>1</td>\n",
       "    </tr>\n",
       "    <tr>\n",
       "      <th>16</th>\n",
       "      <td>B.Math.</td>\n",
       "      <td>1</td>\n",
       "    </tr>\n",
       "  </tbody>\n",
       "</table>\n",
       "</div>"
      ],
      "text/plain": [
       "     degree  count\n",
       "0      B.A.    323\n",
       "1     Ph.D.    312\n",
       "2      M.A.    210\n",
       "3      B.S.     71\n",
       "4      M.S.     65\n",
       "5      M.M.     29\n",
       "6   M.Phil.     23\n",
       "7      B.M.     23\n",
       "8     M.Ed.     17\n",
       "9    M.F.A.     14\n",
       "10   D.M.A.      6\n",
       "11     J.D.      4\n",
       "12   B.F.A.      4\n",
       "13     M.P.      1\n",
       "14   B.E.D.      1\n",
       "15     B.E.      1\n",
       "16  B.Math.      1"
      ]
     },
     "execution_count": 385,
     "metadata": {},
     "output_type": "execute_result"
    }
   ],
   "source": [
    "degree_df = pd.DataFrame(degree_counter.most_common(), columns=['degree', 'count'])\n",
    "degree_df"
   ]
  },
  {
   "cell_type": "code",
   "execution_count": 386,
   "metadata": {},
   "outputs": [
    {
     "data": {
      "image/png": "[encoded data removed]",
      "text/plain": [
       "<Figure size 576x576 with 1 Axes>"
      ]
     },
     "metadata": {},
     "output_type": "display_data"
    }
   ],
   "source": [
    "# plotting degrees received by faculty\n",
    "plotInfo(degree_df, 'Degrees received by faculty members','degree')"
   ]
  },
  {
   "cell_type": "markdown",
   "metadata": {},
   "source": [
    "From the plot above we can see that a lot of faculty members obtained a B.A. and a M.A. instead of a B.S. or M.S.\n",
    "However we are also interested in the overall number of individuals receiving a bachelors, masters and phd. "
   ]
  },
  {
   "cell_type": "code",
   "execution_count": 387,
   "metadata": {},
   "outputs": [],
   "source": [
    "def degreeOverview(degreeCounts):\n",
    "    \"\"\"\n",
    "    groups degrees by level, ie undegraduate and graduate and returns a dataframe with their counts\n",
    "    \"\"\"\n",
    "    b_tot = 0\n",
    "    m_tot = 0\n",
    "    p_tot = 0\n",
    "    for degree in degreeCounts.keys():\n",
    "        if degree in bachelor:\n",
    "            b_tot += degreeCounts[degree]\n",
    "        elif degree in masters:\n",
    "            m_tot += degreeCounts[degree]\n",
    "        else:\n",
    "            p_tot += degreeCounts[degree]\n",
    "    degree_all = pd.DataFrame(['bachelor', 'master', 'phd'],columns = ['degree'])\n",
    "    degree_all['count'] = [b_tot, m_tot, p_tot]\n",
    "    return degree_all"
   ]
  },
  {
   "cell_type": "code",
   "execution_count": 388,
   "metadata": {},
   "outputs": [
    {
     "data": {
      "text/html": [
       "<div>\n",
       "<style scoped>\n",
       "    .dataframe tbody tr th:only-of-type {\n",
       "        vertical-align: middle;\n",
       "    }\n",
       "\n",
       "    .dataframe tbody tr th {\n",
       "        vertical-align: top;\n",
       "    }\n",
       "\n",
       "    .dataframe thead th {\n",
       "        text-align: right;\n",
       "    }\n",
       "</style>\n",
       "<table border=\"1\" class=\"dataframe\">\n",
       "  <thead>\n",
       "    <tr style=\"text-align: right;\">\n",
       "      <th></th>\n",
       "      <th>degree</th>\n",
       "      <th>count</th>\n",
       "    </tr>\n",
       "  </thead>\n",
       "  <tbody>\n",
       "    <tr>\n",
       "      <th>0</th>\n",
       "      <td>bachelor</td>\n",
       "      <td>424</td>\n",
       "    </tr>\n",
       "    <tr>\n",
       "      <th>1</th>\n",
       "      <td>master</td>\n",
       "      <td>359</td>\n",
       "    </tr>\n",
       "    <tr>\n",
       "      <th>2</th>\n",
       "      <td>phd</td>\n",
       "      <td>322</td>\n",
       "    </tr>\n",
       "  </tbody>\n",
       "</table>\n",
       "</div>"
      ],
      "text/plain": [
       "     degree  count\n",
       "0  bachelor    424\n",
       "1    master    359\n",
       "2       phd    322"
      ]
     },
     "execution_count": 388,
     "metadata": {},
     "output_type": "execute_result"
    }
   ],
   "source": [
    "# create degree dataframe \n",
    "degree_all_df = degreeOverview(degree_counter)\n",
    "degree_all_df"
   ]
  },
  {
   "cell_type": "code",
   "execution_count": 389,
   "metadata": {},
   "outputs": [
    {
     "data": {
      "image/png": "[encoded data removed]",
      "text/plain": [
       "<Figure size 576x576 with 1 Axes>"
      ]
     },
     "metadata": {},
     "output_type": "display_data"
    }
   ],
   "source": [
    "plotInfo(degree_all_df,\"Degrees obtained by faculty members\", 'degree', 'lightblue', False)"
   ]
  },
  {
   "cell_type": "markdown",
   "metadata": {},
   "source": [
    "## 3. Extracting department information \n",
    "After having analyzed the degrees faculty members obtain, we are also interested in exploring the departments they work for and their levels, i.e Associate Professor or Assistant Professor. \n",
    "The first step in this process involves extracting the department and title of employment for each faculty member. \n",
    "Since faculty members may have multiple titles we go through each title column to search for their faculty description."
   ]
  },
  {
   "cell_type": "code",
   "execution_count": 730,
   "metadata": {},
   "outputs": [],
   "source": [
    "def extractTitle(title): \n",
    "    \"\"\"\n",
    "    given the title of a faculty member extracts their department and official title\n",
    "    \"\"\"\n",
    "    if type(title) != float:\n",
    "        if ('Performance Faculty' in title) or ('Accompanist/Coach' in title) or ('Music Instructor' in title):\n",
    "            split_title = title.split(' in ')\n",
    "            return split_title[0].strip(), 'Music' # clean music instructors\n",
    "        \n",
    "        elif ('Instructor in Physical Education' in title):\n",
    "            split_title = title.split(' in ')\n",
    "            return split_title[0].strip(), 'Physical Education'\n",
    "        \n",
    "        elif ((\"Lecturer in\" in title) or ('Instructor in' in title) \n",
    "            or ('Professor in' in title) or ('Fellow in' in title)): \n",
    "            # skip this title if any of these keywords appear\n",
    "            if ((\"History of Ideas\" in title) or ('Critical Thought' in title) or ('the Health Sciences' in title)\n",
    "             or ('Physical and Natural Sciences' in title) or (\"Social Sciences\" in title) or (\"Humanities\" in title)):\n",
    "                return\n",
    "            split_title = title.split(' in ')\n",
    "            return split_title[0].strip(), split_title[-1].strip()\n",
    "       \n",
    "        elif 'PERA' in title:  # extract PE coaches\n",
    "            split_title = title.split(' of ')\n",
    "            return split_title[0].strip(), 'Physical Education'\n",
    "        elif \"Professor of\" in title:\n",
    "            split_title = title.split(' of ')\n",
    "            if \"Class of\" in title: # special case for professors who have \n",
    "                return 'Class of ' + split_title[1].strip(), split_title[-1].strip()\n",
    "            elif (\"Social Sciences\" in title) or (\"Critical Thought\" in title) or (\"Humanities\" in title): \n",
    "                return\n",
    "            else:\n",
    "                return split_title[0].strip(), split_title[-1].strip()\n",
    "        elif (('Coach/Collaborative Keyboardist' in title) or ('Conductor' in title)):\n",
    "            return title,'Music'"
   ]
  },
  {
   "cell_type": "code",
   "execution_count": 731,
   "metadata": {},
   "outputs": [],
   "source": [
    "def getTitle(person, titles):\n",
    "    \"\"\"\n",
    "    given a person's information extracts their department and title, if not found returns nothing \n",
    "    \"\"\"\n",
    "    for title in titles:\n",
    "        if extractTitle(person[title]) != None:\n",
    "            return extractTitle(person[title])\n",
    "    # if nothing found print it\n",
    "    print(person['name'], person['title'], 'no title found')"
   ]
  },
  {
   "cell_type": "code",
   "execution_count": 732,
   "metadata": {},
   "outputs": [
    {
     "data": {
      "text/plain": [
       "('Senior Music Performance Faculty', 'Music')"
      ]
     },
     "execution_count": 732,
     "metadata": {},
     "output_type": "execute_result"
    }
   ],
   "source": [
    "# example of getTitle function\n",
    "getTitle(prof_df.iloc[4], ['title', 'title2', 'title3'])"
   ]
  },
  {
   "cell_type": "code",
   "execution_count": 733,
   "metadata": {},
   "outputs": [
    {
     "name": "stdout",
     "output_type": "stream",
     "text": [
      "Angelini, Margaret Director, Guild of Carillonneurs no title found\n",
      "Ellis, Bethany Director of Athletics and Chair of Department of Physical Education, Recreation and Athletics no title found\n",
      "Szegedi, Zsuzanna nan no title found\n",
      "Tanriverdi, Serhan Freedom Project Postdoctoral Fellow no title found\n",
      "Taodzera, Shingirai Freedom Project Postdoctoral Fellow no title found\n",
      "Towlun, David Theatre Production Manager no title found\n"
     ]
    }
   ],
   "source": [
    "# get titles of professors\n",
    "prof_titles = prof_df.apply(lambda x: getTitle(x, ['title', 'title2', 'title3']), axis = 1)"
   ]
  },
  {
   "cell_type": "code",
   "execution_count": 734,
   "metadata": {},
   "outputs": [],
   "source": [
    "def getItem(titles, index):\n",
    "    if titles != None:\n",
    "        return titles[index]\n",
    "    return ''"
   ]
  },
  {
   "cell_type": "code",
   "execution_count": 735,
   "metadata": {},
   "outputs": [],
   "source": [
    "# save title and dept in dataframe columns\n",
    "prof_df['role'] = prof_titles.apply(lambda x: getItem(x,0))\n",
    "prof_df['dept'] = prof_titles.apply(lambda x: getItem(x,1))"
   ]
  },
  {
   "cell_type": "markdown",
   "metadata": {},
   "source": [
    "Having now created extra columns that hold the role and department a faculty member is part of, there is still some cleaning left to do. For example, some professors hold a special professorship name, or are instructors or lecturers.\n",
    "Thus, we first examine the different types of labels and clean these to end up with a more homogenous dataset."
   ]
  },
  {
   "cell_type": "code",
   "execution_count": 736,
   "metadata": {},
   "outputs": [
    {
     "data": {
      "text/plain": [
       "array(['Senior Lecturer', 'Assistant Professor',\n",
       "       'Senior Music Performance Faculty', 'Professor', 'Lecturer', '',\n",
       "       'Associate Professor', 'Visiting Lecturer',\n",
       "       'Freedom Project Postdoctoral Fellow', 'Senior Instructor',\n",
       "       'Allene Lummis Russell Professor',\n",
       "       'Theodora L. and Stanley H. Feldberg Professor',\n",
       "       'Catherine Mills Davis Professor', 'Frost Professor', 'Instructor',\n",
       "       'Gordon P. Lang and Althea P. Lang ‘26 Professor',\n",
       "       'Ralph Emerson and Alice Freeman Palmer Professor',\n",
       "       'Marshall I. Goldman Professor', 'Mary Jewett Gaiser Professor',\n",
       "       'Mellon Postdoctoral Fellow', 'Lorraine C. Wang Professor',\n",
       "       'Andrew W. Mellon Assistant Professor',\n",
       "       'Coach/Collaborative Keyboardist', 'Knafel Assistant Professor',\n",
       "       'Camilla Chandler Frost Professor', 'Music Performance Faculty',\n",
       "       'Theresa Mall Mullarkey Associate Professor',\n",
       "       'PERA Associate Professor', 'Class of 1966 Associate Professor',\n",
       "       'Phyllis Henderson Carey Professor',\n",
       "       'Louise Sherwood McDowell and Sarah Frances Whiting Professor',\n",
       "       'Grace Slack McNeil Professor', 'Mildred Lane Kemper Professor',\n",
       "       \"Jane Bishop '51 Associate Professor\",\n",
       "       'Distinguished Senior Lecturer', 'Music Instructor',\n",
       "       'Conductor, Brandeis-Wellesley Orchestra',\n",
       "       'Class of 1919 - 50th Reunion Professor',\n",
       "       'Newhouse Visiting Professor', 'Jean Glasscock Professor',\n",
       "       'Elisabeth Luce Moore Postdoctoral Fellow',\n",
       "       'Class of 1949 Professor', 'PERA Assistant Professor',\n",
       "       'Adjunct Assistant Professor', 'M. Margaret Ball Professor',\n",
       "       'Elizabeth Kimball Kendall and Elisabeth Hodder Professor',\n",
       "       'Sophia Moses Robison Associate Professor',\n",
       "       'Katharine Coman and A. Barton Hepburn Professor',\n",
       "       'Stanford Calderwood Professor',\n",
       "       'Katharine Lee Bates and Sophie Chantal Hart Professor',\n",
       "       'Accompanist/Coach', 'Elisabeth Luce Moore Professor',\n",
       "       'Luella LaMer Slaner Professor',\n",
       "       'Elizabeth Christy Kopf Professor',\n",
       "       'Margaret Clapp ‘30 Distinguished Alumna Professor',\n",
       "       'Virginia Onderdonk ‘29 Professor',\n",
       "       'Edith Stix Wasserman Professor',\n",
       "       'Betty Freyhof Johnson ‘44 Professor', 'Margaret Hamm Professor',\n",
       "       'Diana Chapman Walsh Assistant Professor',\n",
       "       'Susan M. Hallowell and Ruby Frances Howe Farwell Professor',\n",
       "       'Margaret E. Deffenbaugh and LeRoy T. Carlson Professor',\n",
       "       'Luella LaMer Professor', 'William R. Kenan, Jr. Professor',\n",
       "       'Anne Pierce Rogers Professor', 'Norma Wilentz Hess Professor',\n",
       "       'Garis Fellow', 'Theodora Stone Sutton Professor',\n",
       "       'Senior Coach/Collaborative Keyboardist',\n",
       "       'Dorothy and Charles Jenkins, Jr. Distinguished Professor',\n",
       "       'Lewis Atterbury Stimson Professor',\n",
       "       'Kathryn Wasserman Davis Professor',\n",
       "       'Hess Fellow and Visiting Lecturer',\n",
       "       'Kresa Family Assistant Professor', 'PERA Professor',\n",
       "       'Mayling Soong Professor',\n",
       "       'Nellie Zuckerman Cohen & Anne Cohen Heller Professor',\n",
       "       'Anchor Point Assistant Professor'], dtype=object)"
      ]
     },
     "execution_count": 736,
     "metadata": {},
     "output_type": "execute_result"
    }
   ],
   "source": [
    "# different titles professors hold\n",
    "prof_df['role'].unique()"
   ]
  },
  {
   "cell_type": "code",
   "execution_count": 737,
   "metadata": {},
   "outputs": [],
   "source": [
    "def cleanProfessorTitle(title):\n",
    "    \"\"\"\n",
    "    given the title of a professor, cleans it to \n",
    "    \"\"\"\n",
    "    if \"Assistant Professor\" in title:\n",
    "        return \"Assistant Professor\"\n",
    "    elif \"Associate Professor\" in title:\n",
    "        return \"Associate Professor\"\n",
    "    elif \"PERA\" in title:\n",
    "        return title\n",
    "    elif \"Fellow\" in title:\n",
    "        return \"Postdoctoral Fellow\"\n",
    "    elif \"Visiting Lecturer\" in title:\n",
    "        return \"Visiting Lecturer\"\n",
    "    elif \"Professor\" in title:\n",
    "        return \"Professor\"\n",
    "    elif \"Senior Lecturer\" in title:\n",
    "        return \"Senior Lecturer\"\n",
    "    elif ((\"Coach/Collaborative Keyboardist\" in title) or ('Music Instructor' in title) or\n",
    "          (\"Accompanist\" in title) or (\"Conductor\" in title)): # clean music faculty descriptions\n",
    "        return \"Music Performance Faculty\"\n",
    "    else:\n",
    "        return title"
   ]
  },
  {
   "cell_type": "code",
   "execution_count": 738,
   "metadata": {},
   "outputs": [
    {
     "data": {
      "text/plain": [
       "array(['Senior Lecturer', 'Assistant Professor',\n",
       "       'Senior Music Performance Faculty', 'Professor', 'Lecturer', '',\n",
       "       'Associate Professor', 'Visiting Lecturer', 'Postdoctoral Fellow',\n",
       "       'Senior Instructor', 'Instructor', 'Music Performance Faculty',\n",
       "       'PERA Professor'], dtype=object)"
      ]
     },
     "execution_count": 738,
     "metadata": {},
     "output_type": "execute_result"
    }
   ],
   "source": [
    "# unique roles after cleaning\n",
    "prof_df['role'].apply(cleanProfessorTitle).unique()"
   ]
  },
  {
   "cell_type": "code",
   "execution_count": 739,
   "metadata": {},
   "outputs": [],
   "source": [
    "# save cleaned faculty titles in new column\n",
    "prof_df['role_cleaned']= prof_df['role'].apply(cleanProfessorTitle)"
   ]
  },
  {
   "cell_type": "markdown",
   "metadata": {},
   "source": [
    "After having cleaned the roles/titles faculty members hold, a similar process can be followed for cleaning the different departments they belong to. First we take a look at all the departments that are currently listed for faculty and then we can rename those that are equivalent such as Physics and Physics Laboratory (both are Physics). "
   ]
  },
  {
   "cell_type": "code",
   "execution_count": 740,
   "metadata": {},
   "outputs": [
    {
     "data": {
      "text/plain": [
       "array(['Middle Eastern Studies', 'Economics', 'Music', 'Spanish',\n",
       "       'Psychology', 'Computer Science', '', 'Theatre Studies',\n",
       "       'Writing and Anthropology', 'Political Science', 'Chemistry',\n",
       "       'Religion', 'Engineering', 'Italian Studies',\n",
       "       'the Writing Program', 'Physics', 'Neuroscience', 'Art',\n",
       "       'Biological Sciences Laboratory', 'English', 'French',\n",
       "       'Biological Sciences', 'Environmental Science',\n",
       "       'Physical Education', 'Education', 'Mathematics',\n",
       "       'Classical Studies', 'Cognitive and Linguistic Sciences',\n",
       "       'Africana Studies', 'Geosciences', 'Women’s and Gender Studies',\n",
       "       'Jewish Studies', 'Chinese', 'American Studies',\n",
       "       'the Quantitative Reasoning Program', 'Economic',\n",
       "       'Peace and Justice Studies', 'Sociology', 'Natural Sciences',\n",
       "       'Philosophy', 'South Asia Studies', 'Environmental Studies',\n",
       "       'Chemistry Laboratory', 'Anthropology', 'Russian', 'Astrophysics',\n",
       "       'American Art', 'German Studies', 'History',\n",
       "       'Geosciences Laboratory', 'Japanese', 'Peace & Justice Studies',\n",
       "       \"Women's & Gender Studies\", 'Computer Science Laboratory',\n",
       "       'Sociology and Women’s and Gender Studies', 'Creative Writing',\n",
       "       'Portuguese', 'Italian Studies & English', 'Ethics',\n",
       "       \"Women's Health Studies\", 'International Relations',\n",
       "       'Jewish Studies and English', 'Korean',\n",
       "       'Psychology and Cognitive and Linguistic Sciences',\n",
       "       'Christian Studies', \"Women's and Gender Studies\",\n",
       "       'Latin American Studies', 'Astronomy', 'Asian Studies',\n",
       "       'Cinema & Media Studies and French', 'Cinema & Media Studies',\n",
       "       'Quantitative Reasoning and Mathematics',\n",
       "       'Comparative Literary Studies',\n",
       "       'Astronomy Laboratory and Observatory Manager',\n",
       "       'Neuroscience Laboratory', \"Women's Studies\",\n",
       "       'History and Classical Studies', 'American Literature', 'Classics',\n",
       "       'Slavic Studies', 'Economics and Writing', 'Physics Laboratory',\n",
       "       'Chinese Studies', 'Health Sciences'], dtype=object)"
      ]
     },
     "execution_count": 740,
     "metadata": {},
     "output_type": "execute_result"
    }
   ],
   "source": [
    "# unique departments in our dataset \n",
    "prof_df['dept'].unique()"
   ]
  },
  {
   "cell_type": "code",
   "execution_count": 745,
   "metadata": {},
   "outputs": [],
   "source": [
    "def cleanDepartments(dept):\n",
    "    \"\"\"\n",
    "    given the name of a department returns a cleaned version of the department name\n",
    "    \"\"\"\n",
    "    \n",
    "    if \"Computer Science\" in dept: \n",
    "        return \"Computer Science\"\n",
    "    elif \"Physics\" in dept:\n",
    "        return \"Physics\"\n",
    "    elif \"Chemistry\" in dept:\n",
    "        return \"Chemistry\"\n",
    "    elif \"Neuroscience\" in dept:\n",
    "        return \"Neuroscience\"\n",
    "    elif (\"Women's\" in dept) or (\"Women’s\" in dept) or (\"Health\" in dept):\n",
    "        return \"WGST\"\n",
    "    elif \"Chinese\" in dept:\n",
    "        return \"Chinese\"\n",
    "    elif \"Quantitative Reasoning\" in dept:\n",
    "        return \"Mathematics\"\n",
    "    elif \"Biological Sciences\" in dept:\n",
    "        return \"Biological Sciences\"\n",
    "    elif \"Geosciences\" in dept:\n",
    "        return \"Geosciences\"\n",
    "    elif \"Writing\" in dept:\n",
    "        return \"Writing\"\n",
    "    elif \"Econ\" in dept:\n",
    "        return \"Economics\"\n",
    "    elif \"Christian\" in dept:\n",
    "        return \"Religion\"\n",
    "    elif \"Astronomy\" in dept:\n",
    "        return \"Astronomy\"\n",
    "    elif \"Peace\" in dept:\n",
    "        return 'Peace & Justice Studies'\n",
    "    elif \"Environment\" in dept: \n",
    "        return \"Environmental Science\"\n",
    "    elif \"Art\" in dept:\n",
    "        return \"Art\"\n",
    "    elif \"Asia\" in dept:\n",
    "        return \"Asian Studies\"\n",
    "    elif \"Ethics\" in dept:\n",
    "        return 'Philosophy'\n",
    "    elif \"Classic\" in dept:\n",
    "        return \"Classical Studies\"\n",
    "    elif \"Cognitive and Linguistic Sciences\" in dept:\n",
    "        return \"Cognitive & Linguistic Sciences\"\n",
    "    else:\n",
    "        return dept"
   ]
  },
  {
   "cell_type": "markdown",
   "metadata": {},
   "source": [
    "Because some professors belong to multiple departments we would like to also extract the individual departments from the string containing the department name. To make saving and processing the data easier the departments are saved as a list instead of strings. "
   ]
  },
  {
   "cell_type": "code",
   "execution_count": 747,
   "metadata": {},
   "outputs": [
    {
     "data": {
      "text/plain": [
       "array(['Middle Eastern Studies', 'Economics', 'Music', 'Spanish',\n",
       "       'Psychology', 'Computer Science', '', 'Theatre Studies', 'Writing',\n",
       "       'Political Science', 'Chemistry', 'Religion', 'Engineering',\n",
       "       'Italian Studies', 'Physics', 'Neuroscience', 'Art',\n",
       "       'Biological Sciences', 'English', 'French',\n",
       "       'Environmental Science', 'Physical Education', 'Education',\n",
       "       'Mathematics', 'Classical Studies',\n",
       "       'Cognitive & Linguistic Sciences', 'Africana Studies',\n",
       "       'Geosciences', 'WGST', 'Jewish Studies', 'Chinese',\n",
       "       'American Studies', 'Peace & Justice Studies', 'Sociology',\n",
       "       'Natural Sciences', 'Philosophy', 'Asian Studies', 'Anthropology',\n",
       "       'Russian', 'Astrophysics', 'German Studies', 'History', 'Japanese',\n",
       "       'Portuguese', 'Italian Studies & English',\n",
       "       'International Relations', 'Jewish Studies and English', 'Korean',\n",
       "       'Latin American Studies', 'Astronomy',\n",
       "       'Cinema & Media Studies and French', 'Cinema & Media Studies',\n",
       "       'Comparative Literary Studies', 'American Literature',\n",
       "       'Slavic Studies'], dtype=object)"
      ]
     },
     "execution_count": 747,
     "metadata": {},
     "output_type": "execute_result"
    }
   ],
   "source": [
    "# unique departments after preliminary cleaning\n",
    "prof_df['dept'].apply(cleanDepartments).unique()"
   ]
  },
  {
   "cell_type": "code",
   "execution_count": 779,
   "metadata": {},
   "outputs": [],
   "source": [
    "def splitDept(dept):\n",
    "    if dept != None and type(dept) != float:\n",
    "        dept_split = dept.split('and')\n",
    "        return [item.strip() for item in dept_split]\n",
    "    return []"
   ]
  },
  {
   "cell_type": "code",
   "execution_count": 780,
   "metadata": {},
   "outputs": [],
   "source": [
    "# save cleaned departments in df column\n",
    "cleanedDept = prof_df['dept'].apply(cleanDepartments)\n",
    "prof_df['cleaned_dept'] = cleanedDept.apply(splitDept)"
   ]
  },
  {
   "cell_type": "markdown",
   "metadata": {},
   "source": [
    "## 4. Visualizing cleaned faculty data\n",
    "After having cleaned the departments and titles faculty members hold we can move on to visualizing the different academic ranks faculty members hold as well as the departments they belong to. "
   ]
  },
  {
   "cell_type": "code",
   "execution_count": 756,
   "metadata": {},
   "outputs": [],
   "source": [
    "# counter for what type of rank faculty hold\n",
    "prof_title_counter = Counter(prof_df['role_cleaned'])"
   ]
  },
  {
   "cell_type": "code",
   "execution_count": 759,
   "metadata": {},
   "outputs": [
    {
     "data": {
      "text/html": [
       "<div>\n",
       "<style scoped>\n",
       "    .dataframe tbody tr th:only-of-type {\n",
       "        vertical-align: middle;\n",
       "    }\n",
       "\n",
       "    .dataframe tbody tr th {\n",
       "        vertical-align: top;\n",
       "    }\n",
       "\n",
       "    .dataframe thead th {\n",
       "        text-align: right;\n",
       "    }\n",
       "</style>\n",
       "<table border=\"1\" class=\"dataframe\">\n",
       "  <thead>\n",
       "    <tr style=\"text-align: right;\">\n",
       "      <th></th>\n",
       "      <th>rank</th>\n",
       "      <th>count</th>\n",
       "    </tr>\n",
       "  </thead>\n",
       "  <tbody>\n",
       "    <tr>\n",
       "      <th>0</th>\n",
       "      <td>Professor</td>\n",
       "      <td>119</td>\n",
       "    </tr>\n",
       "    <tr>\n",
       "      <th>1</th>\n",
       "      <td>Associate Professor</td>\n",
       "      <td>80</td>\n",
       "    </tr>\n",
       "    <tr>\n",
       "      <th>2</th>\n",
       "      <td>Assistant Professor</td>\n",
       "      <td>47</td>\n",
       "    </tr>\n",
       "    <tr>\n",
       "      <th>3</th>\n",
       "      <td>Instructor</td>\n",
       "      <td>46</td>\n",
       "    </tr>\n",
       "    <tr>\n",
       "      <th>4</th>\n",
       "      <td>Lecturer</td>\n",
       "      <td>37</td>\n",
       "    </tr>\n",
       "    <tr>\n",
       "      <th>5</th>\n",
       "      <td>Visiting Lecturer</td>\n",
       "      <td>35</td>\n",
       "    </tr>\n",
       "    <tr>\n",
       "      <th>6</th>\n",
       "      <td>Senior Lecturer</td>\n",
       "      <td>22</td>\n",
       "    </tr>\n",
       "    <tr>\n",
       "      <th>7</th>\n",
       "      <td>Senior Music Performance Faculty</td>\n",
       "      <td>19</td>\n",
       "    </tr>\n",
       "    <tr>\n",
       "      <th>8</th>\n",
       "      <td>Music Performance Faculty</td>\n",
       "      <td>17</td>\n",
       "    </tr>\n",
       "    <tr>\n",
       "      <th>9</th>\n",
       "      <td>Senior Instructor</td>\n",
       "      <td>13</td>\n",
       "    </tr>\n",
       "    <tr>\n",
       "      <th>10</th>\n",
       "      <td>Postdoctoral Fellow</td>\n",
       "      <td>9</td>\n",
       "    </tr>\n",
       "    <tr>\n",
       "      <th>11</th>\n",
       "      <td></td>\n",
       "      <td>6</td>\n",
       "    </tr>\n",
       "    <tr>\n",
       "      <th>12</th>\n",
       "      <td>PERA Professor</td>\n",
       "      <td>1</td>\n",
       "    </tr>\n",
       "  </tbody>\n",
       "</table>\n",
       "</div>"
      ],
      "text/plain": [
       "                                rank  count\n",
       "0                          Professor    119\n",
       "1                Associate Professor     80\n",
       "2                Assistant Professor     47\n",
       "3                         Instructor     46\n",
       "4                           Lecturer     37\n",
       "5                  Visiting Lecturer     35\n",
       "6                    Senior Lecturer     22\n",
       "7   Senior Music Performance Faculty     19\n",
       "8          Music Performance Faculty     17\n",
       "9                  Senior Instructor     13\n",
       "10               Postdoctoral Fellow      9\n",
       "11                                        6\n",
       "12                    PERA Professor      1"
      ]
     },
     "execution_count": 759,
     "metadata": {},
     "output_type": "execute_result"
    }
   ],
   "source": [
    "rank_df = pd.DataFrame(prof_title_counter.most_common(), columns=['rank', 'count'])\n",
    "rank_df"
   ]
  },
  {
   "cell_type": "code",
   "execution_count": 760,
   "metadata": {},
   "outputs": [
    {
     "data": {
      "image/png": "[encoded data removed]",
      "text/plain": [
       "<Figure size 576x576 with 1 Axes>"
      ]
     },
     "metadata": {},
     "output_type": "display_data"
    }
   ],
   "source": [
    "plotInfo(rank_df,\"Rank of Faculty Members\", 'rank', 'lightblue')"
   ]
  },
  {
   "cell_type": "markdown",
   "metadata": {},
   "source": [
    "Again, here we see all the different ranks and number of individuals belonging to each group. But what if we are interested in the overall number of lecturers or music faculty. To examine this questions we first group faculty by their academic description ie professor, instructor etc. and then visualize the grouped data."
   ]
  },
  {
   "cell_type": "code",
   "execution_count": 763,
   "metadata": {},
   "outputs": [],
   "source": [
    "def groupRanks(rank_dict):\n",
    "    \"\"\"\n",
    "    given a counter dictionary of ranks groups them together to different groups\n",
    "    \"\"\"\n",
    "    # all types of faculty members\n",
    "    instructor = 0\n",
    "    lecturer = 0\n",
    "    music = 0\n",
    "    professor = 0 \n",
    "    for rank in rank_dict.keys():\n",
    "        if \"Instructor\" in rank:\n",
    "            instructor += rank_dict[rank]\n",
    "        elif \"Professor\" in rank: \n",
    "            professor += rank_dict[rank]\n",
    "        elif \"Music\" in rank: \n",
    "            music += rank_dict[rank]\n",
    "        elif \"Lecturer\" in rank:\n",
    "            lecturer += rank_dict[rank]\n",
    "    count_df = pd.DataFrame(['Instructor', 'Professor', 'Performance Faculty','Lecturer'], columns = ['title'])\n",
    "    count_df['count'] = [instructor, professor, music, lecturer]\n",
    "    return count_df"
   ]
  },
  {
   "cell_type": "code",
   "execution_count": 765,
   "metadata": {},
   "outputs": [
    {
     "data": {
      "text/html": [
       "<div>\n",
       "<style scoped>\n",
       "    .dataframe tbody tr th:only-of-type {\n",
       "        vertical-align: middle;\n",
       "    }\n",
       "\n",
       "    .dataframe tbody tr th {\n",
       "        vertical-align: top;\n",
       "    }\n",
       "\n",
       "    .dataframe thead th {\n",
       "        text-align: right;\n",
       "    }\n",
       "</style>\n",
       "<table border=\"1\" class=\"dataframe\">\n",
       "  <thead>\n",
       "    <tr style=\"text-align: right;\">\n",
       "      <th></th>\n",
       "      <th>title</th>\n",
       "      <th>count</th>\n",
       "    </tr>\n",
       "  </thead>\n",
       "  <tbody>\n",
       "    <tr>\n",
       "      <th>0</th>\n",
       "      <td>Instructor</td>\n",
       "      <td>59</td>\n",
       "    </tr>\n",
       "    <tr>\n",
       "      <th>1</th>\n",
       "      <td>Professor</td>\n",
       "      <td>247</td>\n",
       "    </tr>\n",
       "    <tr>\n",
       "      <th>2</th>\n",
       "      <td>Performance Faculty</td>\n",
       "      <td>36</td>\n",
       "    </tr>\n",
       "    <tr>\n",
       "      <th>3</th>\n",
       "      <td>Lecturer</td>\n",
       "      <td>94</td>\n",
       "    </tr>\n",
       "  </tbody>\n",
       "</table>\n",
       "</div>"
      ],
      "text/plain": [
       "                 title  count\n",
       "0           Instructor     59\n",
       "1            Professor    247\n",
       "2  Performance Faculty     36\n",
       "3             Lecturer     94"
      ]
     },
     "execution_count": 765,
     "metadata": {},
     "output_type": "execute_result"
    }
   ],
   "source": [
    "grouped_prof = groupRanks(prof_title_counter)\n",
    "grouped_prof "
   ]
  },
  {
   "cell_type": "code",
   "execution_count": 769,
   "metadata": {},
   "outputs": [
    {
     "data": {
      "image/png": "[encoded data removed]",
      "text/plain": [
       "<Figure size 576x576 with 1 Axes>"
      ]
     },
     "metadata": {},
     "output_type": "display_data"
    }
   ],
   "source": [
    "plotInfo(grouped_prof,\"Faculty makeup\", 'title', 'red', False)"
   ]
  },
  {
   "cell_type": "markdown",
   "metadata": {},
   "source": [
    "Aside from the titles faculty hold we are also interested the breakdown by department. Having extracted the departments faculty members belong to we can now visualize the number of faculty per department."
   ]
  },
  {
   "cell_type": "code",
   "execution_count": 781,
   "metadata": {},
   "outputs": [],
   "source": [
    "# create list of all degrees\n",
    "dept_list = list(prof_df['cleaned_dept'])\n",
    "flat_dept_list = [item for sublist in dept_list for item in sublist]"
   ]
  },
  {
   "cell_type": "code",
   "execution_count": 782,
   "metadata": {},
   "outputs": [],
   "source": [
    "# create counter \n",
    "dept_counter = Counter(flat_dept_list)"
   ]
  },
  {
   "cell_type": "code",
   "execution_count": 785,
   "metadata": {},
   "outputs": [
    {
     "data": {
      "text/html": [
       "<div>\n",
       "<style scoped>\n",
       "    .dataframe tbody tr th:only-of-type {\n",
       "        vertical-align: middle;\n",
       "    }\n",
       "\n",
       "    .dataframe tbody tr th {\n",
       "        vertical-align: top;\n",
       "    }\n",
       "\n",
       "    .dataframe thead th {\n",
       "        text-align: right;\n",
       "    }\n",
       "</style>\n",
       "<table border=\"1\" class=\"dataframe\">\n",
       "  <thead>\n",
       "    <tr style=\"text-align: right;\">\n",
       "      <th></th>\n",
       "      <th>dept</th>\n",
       "      <th>count</th>\n",
       "    </tr>\n",
       "  </thead>\n",
       "  <tbody>\n",
       "    <tr>\n",
       "      <th>0</th>\n",
       "      <td>Physical Education</td>\n",
       "      <td>49</td>\n",
       "    </tr>\n",
       "    <tr>\n",
       "      <th>1</th>\n",
       "      <td>Music</td>\n",
       "      <td>43</td>\n",
       "    </tr>\n",
       "    <tr>\n",
       "      <th>2</th>\n",
       "      <td>Biological Sciences</td>\n",
       "      <td>22</td>\n",
       "    </tr>\n",
       "    <tr>\n",
       "      <th>3</th>\n",
       "      <td>Art</td>\n",
       "      <td>21</td>\n",
       "    </tr>\n",
       "    <tr>\n",
       "      <th>4</th>\n",
       "      <td>Chemistry</td>\n",
       "      <td>20</td>\n",
       "    </tr>\n",
       "  </tbody>\n",
       "</table>\n",
       "</div>"
      ],
      "text/plain": [
       "                  dept  count\n",
       "0   Physical Education     49\n",
       "1                Music     43\n",
       "2  Biological Sciences     22\n",
       "3                  Art     21\n",
       "4            Chemistry     20"
      ]
     },
     "execution_count": 785,
     "metadata": {},
     "output_type": "execute_result"
    }
   ],
   "source": [
    "dept_df = pd.DataFrame(dept_counter.most_common(20), columns=['dept', 'count'])\n",
    "dept_df.head()"
   ]
  },
  {
   "cell_type": "code",
   "execution_count": 786,
   "metadata": {},
   "outputs": [
    {
     "data": {
      "image/png": "[encoded data removed]",
      "text/plain": [
       "<Figure size 576x576 with 1 Axes>"
      ]
     },
     "metadata": {},
     "output_type": "display_data"
    }
   ],
   "source": [
    "# plot of departments with most faculty members\n",
    "plotInfo(dept_df,\"Departments with most faculty members\", 'dept', 'salmon')"
   ]
  },
  {
   "cell_type": "markdown",
   "metadata": {},
   "source": [
    "Surprisingly enough the Physical Education department has the biggest number of coaches. The music department has the second most number of faculty members. This in turn is not so surprising as performance faculty members were also grouped under the music department and thus elevated the number of instructors in that department."
   ]
  },
  {
   "cell_type": "markdown",
   "metadata": {},
   "source": [
    "## 5. Further data exploration\n",
    "Now we can take a look at particular departments and the information related to professors in that department. Let's look at the CS department first."
   ]
  },
  {
   "cell_type": "code",
   "execution_count": 792,
   "metadata": {},
   "outputs": [],
   "source": [
    "def findProfFromDept(dept, prof_info):\n",
    "    \"\"\" \n",
    "    returns if a professor is part of a particular department, returns a boolean value\n",
    "    \"\"\"\n",
    "    return dept in prof_info"
   ]
  },
  {
   "cell_type": "code",
   "execution_count": 796,
   "metadata": {},
   "outputs": [
    {
     "data": {
      "text/html": [
       "<div>\n",
       "<style scoped>\n",
       "    .dataframe tbody tr th:only-of-type {\n",
       "        vertical-align: middle;\n",
       "    }\n",
       "\n",
       "    .dataframe tbody tr th {\n",
       "        vertical-align: top;\n",
       "    }\n",
       "\n",
       "    .dataframe thead th {\n",
       "        text-align: right;\n",
       "    }\n",
       "</style>\n",
       "<table border=\"1\" class=\"dataframe\">\n",
       "  <thead>\n",
       "    <tr style=\"text-align: right;\">\n",
       "      <th></th>\n",
       "      <th>name</th>\n",
       "      <th>title</th>\n",
       "      <th>title2</th>\n",
       "      <th>title3</th>\n",
       "      <th>education</th>\n",
       "      <th>edu_list</th>\n",
       "      <th>edu1</th>\n",
       "      <th>edu2</th>\n",
       "      <th>edu3</th>\n",
       "      <th>edu4</th>\n",
       "      <th>colleges</th>\n",
       "      <th>degrees</th>\n",
       "      <th>colleges_clean</th>\n",
       "      <th>degrees_cleaned</th>\n",
       "      <th>role</th>\n",
       "      <th>dept</th>\n",
       "      <th>role_cleaned</th>\n",
       "      <th>cleaned_dept</th>\n",
       "    </tr>\n",
       "  </thead>\n",
       "  <tbody>\n",
       "    <tr>\n",
       "      <th>7</th>\n",
       "      <td>Anderson, Scott D.</td>\n",
       "      <td>Lecturer in Computer Science</td>\n",
       "      <td>NaN</td>\n",
       "      <td>NaN</td>\n",
       "      <td>B.S., Yale University; M.S., Ph.D., University...</td>\n",
       "      <td>[B.S., Yale University, M.S., Ph.D., Universit...</td>\n",
       "      <td>[B.S., Yale University]</td>\n",
       "      <td>[M.S., Ph.D., University of Massachusetts (Amh...</td>\n",
       "      <td>[]</td>\n",
       "      <td>[]</td>\n",
       "      <td>[Yale University, University of Massachusetts ...</td>\n",
       "      <td>[B.S., M.S., Ph.D.]</td>\n",
       "      <td>[Yale University, University of Massachusetts ...</td>\n",
       "      <td>[B.S., M.S., Ph.D.]</td>\n",
       "      <td>Lecturer</td>\n",
       "      <td>Computer Science</td>\n",
       "      <td>Lecturer</td>\n",
       "      <td>[Computer Science]</td>\n",
       "    </tr>\n",
       "    <tr>\n",
       "      <th>19</th>\n",
       "      <td>Bassem, Christine</td>\n",
       "      <td>Assistant Professor of Computer Science</td>\n",
       "      <td>NaN</td>\n",
       "      <td>NaN</td>\n",
       "      <td>B.S., Ain Shams University; M.S., German Unive...</td>\n",
       "      <td>[B.S., Ain Shams University, M.S., German Univ...</td>\n",
       "      <td>[B.S., Ain Shams University]</td>\n",
       "      <td>[M.S., German University in Cairo]</td>\n",
       "      <td>[Ph.D., Boston University]</td>\n",
       "      <td>[]</td>\n",
       "      <td>[Ain Shams University, German University in Ca...</td>\n",
       "      <td>[B.S., M.S., Ph.D.]</td>\n",
       "      <td>[Ain Shams University, German University in Ca...</td>\n",
       "      <td>[B.S., M.S., Ph.D.]</td>\n",
       "      <td>Assistant Professor</td>\n",
       "      <td>Computer Science</td>\n",
       "      <td>Assistant Professor</td>\n",
       "      <td>[Computer Science]</td>\n",
       "    </tr>\n",
       "    <tr>\n",
       "      <th>41</th>\n",
       "      <td>Brubach, Brian</td>\n",
       "      <td>Assistant Professor of Computer Science</td>\n",
       "      <td>NaN</td>\n",
       "      <td>NaN</td>\n",
       "      <td>B.A., Columbia College Chicago; B.A., Rutgers ...</td>\n",
       "      <td>[B.A., Columbia College Chicago, B.A., Rutgers...</td>\n",
       "      <td>[B.A., Columbia College Chicago]</td>\n",
       "      <td>[B.A., Rutgers University, Ph.D., University o...</td>\n",
       "      <td>[]</td>\n",
       "      <td>[]</td>\n",
       "      <td>[Columbia College Chicago, Rutgers University,...</td>\n",
       "      <td>[B.A., B.A., Ph.D.]</td>\n",
       "      <td>[Columbia College Chicago, Rutgers University,...</td>\n",
       "      <td>[B.A., B.A., Ph.D.]</td>\n",
       "      <td>Assistant Professor</td>\n",
       "      <td>Computer Science</td>\n",
       "      <td>Assistant Professor</td>\n",
       "      <td>[Computer Science]</td>\n",
       "    </tr>\n",
       "    <tr>\n",
       "      <th>86</th>\n",
       "      <td>Davis, Andrew</td>\n",
       "      <td>Lecturer in Computer Science</td>\n",
       "      <td>NaN</td>\n",
       "      <td>NaN</td>\n",
       "      <td>B.A., Yale University; M.A., University of Tex...</td>\n",
       "      <td>[B.A., Yale University, M.A., University of Te...</td>\n",
       "      <td>[B.A., Yale University]</td>\n",
       "      <td>[M.A., University of Texas at Austin]</td>\n",
       "      <td>[M.S., Stanford University]</td>\n",
       "      <td>[Ph.D., University of Pennsylvania]</td>\n",
       "      <td>[Yale University, University of Texas at Austi...</td>\n",
       "      <td>[B.A., M.A., M.S., Ph.D.]</td>\n",
       "      <td>[Yale University, University of Texas at Austi...</td>\n",
       "      <td>[B.A., M.A., M.S., Ph.D.]</td>\n",
       "      <td>Lecturer</td>\n",
       "      <td>Computer Science</td>\n",
       "      <td>Lecturer</td>\n",
       "      <td>[Computer Science]</td>\n",
       "    </tr>\n",
       "    <tr>\n",
       "      <th>89</th>\n",
       "      <td>Delcourt, Catherine R. A</td>\n",
       "      <td>Assistant Professor of Computer Science</td>\n",
       "      <td>NaN</td>\n",
       "      <td>NaN</td>\n",
       "      <td>B.A., Wellesley College; M.S., Ph.D., Georgia ...</td>\n",
       "      <td>[B.A., Wellesley College, M.S., Ph.D., Georgia...</td>\n",
       "      <td>[B.A., Wellesley College]</td>\n",
       "      <td>[M.S., Ph.D., Georgia Institute of Technology]</td>\n",
       "      <td>[]</td>\n",
       "      <td>[]</td>\n",
       "      <td>[Wellesley College, Georgia Institute of Techn...</td>\n",
       "      <td>[B.A., M.S., Ph.D.]</td>\n",
       "      <td>[Wellesley College, Georgia Institute of Techn...</td>\n",
       "      <td>[B.A., M.S., Ph.D.]</td>\n",
       "      <td>Assistant Professor</td>\n",
       "      <td>Computer Science</td>\n",
       "      <td>Assistant Professor</td>\n",
       "      <td>[Computer Science]</td>\n",
       "    </tr>\n",
       "  </tbody>\n",
       "</table>\n",
       "</div>"
      ],
      "text/plain": [
       "                        name                                    title title2  \\\n",
       "7         Anderson, Scott D.             Lecturer in Computer Science    NaN   \n",
       "19         Bassem, Christine  Assistant Professor of Computer Science    NaN   \n",
       "41            Brubach, Brian  Assistant Professor of Computer Science    NaN   \n",
       "86             Davis, Andrew             Lecturer in Computer Science    NaN   \n",
       "89  Delcourt, Catherine R. A  Assistant Professor of Computer Science    NaN   \n",
       "\n",
       "   title3                                          education  \\\n",
       "7     NaN  B.S., Yale University; M.S., Ph.D., University...   \n",
       "19    NaN  B.S., Ain Shams University; M.S., German Unive...   \n",
       "41    NaN  B.A., Columbia College Chicago; B.A., Rutgers ...   \n",
       "86    NaN  B.A., Yale University; M.A., University of Tex...   \n",
       "89    NaN  B.A., Wellesley College; M.S., Ph.D., Georgia ...   \n",
       "\n",
       "                                             edu_list  \\\n",
       "7   [B.S., Yale University, M.S., Ph.D., Universit...   \n",
       "19  [B.S., Ain Shams University, M.S., German Univ...   \n",
       "41  [B.A., Columbia College Chicago, B.A., Rutgers...   \n",
       "86  [B.A., Yale University, M.A., University of Te...   \n",
       "89  [B.A., Wellesley College, M.S., Ph.D., Georgia...   \n",
       "\n",
       "                                edu1  \\\n",
       "7            [B.S., Yale University]   \n",
       "19      [B.S., Ain Shams University]   \n",
       "41  [B.A., Columbia College Chicago]   \n",
       "86           [B.A., Yale University]   \n",
       "89         [B.A., Wellesley College]   \n",
       "\n",
       "                                                 edu2  \\\n",
       "7   [M.S., Ph.D., University of Massachusetts (Amh...   \n",
       "19                 [M.S., German University in Cairo]   \n",
       "41  [B.A., Rutgers University, Ph.D., University o...   \n",
       "86              [M.A., University of Texas at Austin]   \n",
       "89     [M.S., Ph.D., Georgia Institute of Technology]   \n",
       "\n",
       "                           edu3                                 edu4  \\\n",
       "7                            []                                   []   \n",
       "19   [Ph.D., Boston University]                                   []   \n",
       "41                           []                                   []   \n",
       "86  [M.S., Stanford University]  [Ph.D., University of Pennsylvania]   \n",
       "89                           []                                   []   \n",
       "\n",
       "                                             colleges  \\\n",
       "7   [Yale University, University of Massachusetts ...   \n",
       "19  [Ain Shams University, German University in Ca...   \n",
       "41  [Columbia College Chicago, Rutgers University,...   \n",
       "86  [Yale University, University of Texas at Austi...   \n",
       "89  [Wellesley College, Georgia Institute of Techn...   \n",
       "\n",
       "                      degrees  \\\n",
       "7         [B.S., M.S., Ph.D.]   \n",
       "19        [B.S., M.S., Ph.D.]   \n",
       "41        [B.A., B.A., Ph.D.]   \n",
       "86  [B.A., M.A., M.S., Ph.D.]   \n",
       "89        [B.A., M.S., Ph.D.]   \n",
       "\n",
       "                                       colleges_clean  \\\n",
       "7   [Yale University, University of Massachusetts ...   \n",
       "19  [Ain Shams University, German University in Ca...   \n",
       "41  [Columbia College Chicago, Rutgers University,...   \n",
       "86  [Yale University, University of Texas at Austi...   \n",
       "89  [Wellesley College, Georgia Institute of Techn...   \n",
       "\n",
       "              degrees_cleaned                 role              dept  \\\n",
       "7         [B.S., M.S., Ph.D.]             Lecturer  Computer Science   \n",
       "19        [B.S., M.S., Ph.D.]  Assistant Professor  Computer Science   \n",
       "41        [B.A., B.A., Ph.D.]  Assistant Professor  Computer Science   \n",
       "86  [B.A., M.A., M.S., Ph.D.]             Lecturer  Computer Science   \n",
       "89        [B.A., M.S., Ph.D.]  Assistant Professor  Computer Science   \n",
       "\n",
       "           role_cleaned        cleaned_dept  \n",
       "7              Lecturer  [Computer Science]  \n",
       "19  Assistant Professor  [Computer Science]  \n",
       "41  Assistant Professor  [Computer Science]  \n",
       "86             Lecturer  [Computer Science]  \n",
       "89  Assistant Professor  [Computer Science]  "
      ]
     },
     "execution_count": 796,
     "metadata": {},
     "output_type": "execute_result"
    }
   ],
   "source": [
    "# extract subdata frame that are CS professors at Wellesley \n",
    "CS_df = prof_df[prof_df['cleaned_dept'].apply(lambda x: findProfFromDept('Computer Science',x))]\n",
    "CS_df.head()"
   ]
  },
  {
   "cell_type": "code",
   "execution_count": 797,
   "metadata": {},
   "outputs": [],
   "source": [
    "def getUniversities(df_col, num_colleges):\n",
    "    \n",
    "    # convert the colleges column to a list\n",
    "    colleges_list = list(df_col)\n",
    "    all_colleges_list = [item for sublist in colleges_list for item in sublist]\n",
    "    \n",
    "    # create counter of all colleges and their frequency \n",
    "    uni_counter = Counter(all_colleges_list)\n",
    "    \n",
    "    # create dataframe with most common universities\n",
    "    topUnis = pd.DataFrame(uni_counter.most_common(num_colleges),\n",
    "                             columns=['university', 'count'])\n",
    "    return topUnis"
   ]
  },
  {
   "cell_type": "code",
   "execution_count": 801,
   "metadata": {},
   "outputs": [
    {
     "data": {
      "text/html": [
       "<div>\n",
       "<style scoped>\n",
       "    .dataframe tbody tr th:only-of-type {\n",
       "        vertical-align: middle;\n",
       "    }\n",
       "\n",
       "    .dataframe tbody tr th {\n",
       "        vertical-align: top;\n",
       "    }\n",
       "\n",
       "    .dataframe thead th {\n",
       "        text-align: right;\n",
       "    }\n",
       "</style>\n",
       "<table border=\"1\" class=\"dataframe\">\n",
       "  <thead>\n",
       "    <tr style=\"text-align: right;\">\n",
       "      <th></th>\n",
       "      <th>university</th>\n",
       "      <th>count</th>\n",
       "    </tr>\n",
       "  </thead>\n",
       "  <tbody>\n",
       "    <tr>\n",
       "      <th>0</th>\n",
       "      <td>University of Washington</td>\n",
       "      <td>3</td>\n",
       "    </tr>\n",
       "    <tr>\n",
       "      <th>1</th>\n",
       "      <td>Yale University</td>\n",
       "      <td>2</td>\n",
       "    </tr>\n",
       "    <tr>\n",
       "      <th>2</th>\n",
       "      <td>Stanford University</td>\n",
       "      <td>2</td>\n",
       "    </tr>\n",
       "    <tr>\n",
       "      <th>3</th>\n",
       "      <td>Massachusetts Institute of Technology</td>\n",
       "      <td>2</td>\n",
       "    </tr>\n",
       "    <tr>\n",
       "      <th>4</th>\n",
       "      <td>Amherst College</td>\n",
       "      <td>2</td>\n",
       "    </tr>\n",
       "    <tr>\n",
       "      <th>5</th>\n",
       "      <td>Tufts University</td>\n",
       "      <td>2</td>\n",
       "    </tr>\n",
       "    <tr>\n",
       "      <th>6</th>\n",
       "      <td>M.F.A. School of the Museum of Fine Arts</td>\n",
       "      <td>2</td>\n",
       "    </tr>\n",
       "    <tr>\n",
       "      <th>7</th>\n",
       "      <td>University of Massachusetts (Amherst)</td>\n",
       "      <td>1</td>\n",
       "    </tr>\n",
       "    <tr>\n",
       "      <th>8</th>\n",
       "      <td>Ain Shams University</td>\n",
       "      <td>1</td>\n",
       "    </tr>\n",
       "    <tr>\n",
       "      <th>9</th>\n",
       "      <td>German University in Cairo</td>\n",
       "      <td>1</td>\n",
       "    </tr>\n",
       "    <tr>\n",
       "      <th>10</th>\n",
       "      <td>Boston University</td>\n",
       "      <td>1</td>\n",
       "    </tr>\n",
       "    <tr>\n",
       "      <th>11</th>\n",
       "      <td>Columbia College Chicago</td>\n",
       "      <td>1</td>\n",
       "    </tr>\n",
       "    <tr>\n",
       "      <th>12</th>\n",
       "      <td>Rutgers University</td>\n",
       "      <td>1</td>\n",
       "    </tr>\n",
       "    <tr>\n",
       "      <th>13</th>\n",
       "      <td>University of Maryland</td>\n",
       "      <td>1</td>\n",
       "    </tr>\n",
       "    <tr>\n",
       "      <th>14</th>\n",
       "      <td>University of Texas at Austin</td>\n",
       "      <td>1</td>\n",
       "    </tr>\n",
       "    <tr>\n",
       "      <th>15</th>\n",
       "      <td>University of Pennsylvania</td>\n",
       "      <td>1</td>\n",
       "    </tr>\n",
       "    <tr>\n",
       "      <th>16</th>\n",
       "      <td>Wellesley College</td>\n",
       "      <td>1</td>\n",
       "    </tr>\n",
       "    <tr>\n",
       "      <th>17</th>\n",
       "      <td>Georgia Institute of Technology</td>\n",
       "      <td>1</td>\n",
       "    </tr>\n",
       "    <tr>\n",
       "      <th>18</th>\n",
       "      <td>University of Wisconsin (Madison)</td>\n",
       "      <td>1</td>\n",
       "    </tr>\n",
       "    <tr>\n",
       "      <th>19</th>\n",
       "      <td>University of Rhode Island</td>\n",
       "      <td>1</td>\n",
       "    </tr>\n",
       "  </tbody>\n",
       "</table>\n",
       "</div>"
      ],
      "text/plain": [
       "                                  university  count\n",
       "0                   University of Washington      3\n",
       "1                            Yale University      2\n",
       "2                        Stanford University      2\n",
       "3      Massachusetts Institute of Technology      2\n",
       "4                            Amherst College      2\n",
       "5                           Tufts University      2\n",
       "6   M.F.A. School of the Museum of Fine Arts      2\n",
       "7      University of Massachusetts (Amherst)      1\n",
       "8                       Ain Shams University      1\n",
       "9                 German University in Cairo      1\n",
       "10                         Boston University      1\n",
       "11                  Columbia College Chicago      1\n",
       "12                        Rutgers University      1\n",
       "13                    University of Maryland      1\n",
       "14             University of Texas at Austin      1\n",
       "15                University of Pennsylvania      1\n",
       "16                         Wellesley College      1\n",
       "17           Georgia Institute of Technology      1\n",
       "18         University of Wisconsin (Madison)      1\n",
       "19                University of Rhode Island      1"
      ]
     },
     "execution_count": 801,
     "metadata": {},
     "output_type": "execute_result"
    }
   ],
   "source": [
    "# universities that CS professors attended\n",
    "CS_unis = getUniversities(CS_df['colleges_clean'],20)\n",
    "CS_unis"
   ]
  },
  {
   "cell_type": "code",
   "execution_count": 808,
   "metadata": {},
   "outputs": [
    {
     "data": {
      "text/html": [
       "<div>\n",
       "<style scoped>\n",
       "    .dataframe tbody tr th:only-of-type {\n",
       "        vertical-align: middle;\n",
       "    }\n",
       "\n",
       "    .dataframe tbody tr th {\n",
       "        vertical-align: top;\n",
       "    }\n",
       "\n",
       "    .dataframe thead th {\n",
       "        text-align: right;\n",
       "    }\n",
       "</style>\n",
       "<table border=\"1\" class=\"dataframe\">\n",
       "  <thead>\n",
       "    <tr style=\"text-align: right;\">\n",
       "      <th></th>\n",
       "      <th>university</th>\n",
       "      <th>count</th>\n",
       "    </tr>\n",
       "  </thead>\n",
       "  <tbody>\n",
       "    <tr>\n",
       "      <th>0</th>\n",
       "      <td>Wellesley College</td>\n",
       "      <td>3</td>\n",
       "    </tr>\n",
       "    <tr>\n",
       "      <th>1</th>\n",
       "      <td>Ithaca College</td>\n",
       "      <td>3</td>\n",
       "    </tr>\n",
       "    <tr>\n",
       "      <th>2</th>\n",
       "      <td>University of Massachusetts (Amherst)</td>\n",
       "      <td>2</td>\n",
       "    </tr>\n",
       "    <tr>\n",
       "      <th>3</th>\n",
       "      <td>San Jose State University</td>\n",
       "      <td>1</td>\n",
       "    </tr>\n",
       "    <tr>\n",
       "      <th>4</th>\n",
       "      <td>University of California (Los Angeles)</td>\n",
       "      <td>1</td>\n",
       "    </tr>\n",
       "    <tr>\n",
       "      <th>5</th>\n",
       "      <td>Boston University</td>\n",
       "      <td>1</td>\n",
       "    </tr>\n",
       "    <tr>\n",
       "      <th>6</th>\n",
       "      <td>Wheaton College</td>\n",
       "      <td>1</td>\n",
       "    </tr>\n",
       "    <tr>\n",
       "      <th>7</th>\n",
       "      <td>University of Vermont</td>\n",
       "      <td>1</td>\n",
       "    </tr>\n",
       "    <tr>\n",
       "      <th>8</th>\n",
       "      <td>University of Tennessee (Knoxville)</td>\n",
       "      <td>1</td>\n",
       "    </tr>\n",
       "    <tr>\n",
       "      <th>9</th>\n",
       "      <td>Fitchburg State University</td>\n",
       "      <td>1</td>\n",
       "    </tr>\n",
       "    <tr>\n",
       "      <th>10</th>\n",
       "      <td>Salve Regina University</td>\n",
       "      <td>1</td>\n",
       "    </tr>\n",
       "    <tr>\n",
       "      <th>11</th>\n",
       "      <td>Vassar College</td>\n",
       "      <td>1</td>\n",
       "    </tr>\n",
       "    <tr>\n",
       "      <th>12</th>\n",
       "      <td>Wheelock College</td>\n",
       "      <td>1</td>\n",
       "    </tr>\n",
       "    <tr>\n",
       "      <th>13</th>\n",
       "      <td>Northeastern University</td>\n",
       "      <td>1</td>\n",
       "    </tr>\n",
       "    <tr>\n",
       "      <th>14</th>\n",
       "      <td>University of Central Arkansas</td>\n",
       "      <td>1</td>\n",
       "    </tr>\n",
       "  </tbody>\n",
       "</table>\n",
       "</div>"
      ],
      "text/plain": [
       "                                university  count\n",
       "0                        Wellesley College      3\n",
       "1                           Ithaca College      3\n",
       "2    University of Massachusetts (Amherst)      2\n",
       "3                San Jose State University      1\n",
       "4   University of California (Los Angeles)      1\n",
       "5                        Boston University      1\n",
       "6                          Wheaton College      1\n",
       "7                    University of Vermont      1\n",
       "8      University of Tennessee (Knoxville)      1\n",
       "9               Fitchburg State University      1\n",
       "10                 Salve Regina University      1\n",
       "11                          Vassar College      1\n",
       "12                        Wheelock College      1\n",
       "13                 Northeastern University      1\n",
       "14          University of Central Arkansas      1"
      ]
     },
     "execution_count": 808,
     "metadata": {},
     "output_type": "execute_result"
    }
   ],
   "source": [
    "# colleges PE instructors attended\n",
    "getUniversities(prof_df['colleges_clean'][prof_df['cleaned_dept'].apply(lambda x: findProfFromDept('Physical Education',x))],15)"
   ]
  },
  {
   "cell_type": "code",
   "execution_count": 811,
   "metadata": {},
   "outputs": [
    {
     "data": {
      "text/html": [
       "<div>\n",
       "<style scoped>\n",
       "    .dataframe tbody tr th:only-of-type {\n",
       "        vertical-align: middle;\n",
       "    }\n",
       "\n",
       "    .dataframe tbody tr th {\n",
       "        vertical-align: top;\n",
       "    }\n",
       "\n",
       "    .dataframe thead th {\n",
       "        text-align: right;\n",
       "    }\n",
       "</style>\n",
       "<table border=\"1\" class=\"dataframe\">\n",
       "  <thead>\n",
       "    <tr style=\"text-align: right;\">\n",
       "      <th></th>\n",
       "      <th>university</th>\n",
       "      <th>count</th>\n",
       "    </tr>\n",
       "  </thead>\n",
       "  <tbody>\n",
       "    <tr>\n",
       "      <th>0</th>\n",
       "      <td>Harvard University</td>\n",
       "      <td>6</td>\n",
       "    </tr>\n",
       "    <tr>\n",
       "      <th>1</th>\n",
       "      <td>University of Chicago</td>\n",
       "      <td>4</td>\n",
       "    </tr>\n",
       "    <tr>\n",
       "      <th>2</th>\n",
       "      <td>University of California (Berkeley)</td>\n",
       "      <td>4</td>\n",
       "    </tr>\n",
       "    <tr>\n",
       "      <th>3</th>\n",
       "      <td>Massachusetts Institute of Technology</td>\n",
       "      <td>2</td>\n",
       "    </tr>\n",
       "    <tr>\n",
       "      <th>4</th>\n",
       "      <td>Johns Hopkins University</td>\n",
       "      <td>2</td>\n",
       "    </tr>\n",
       "    <tr>\n",
       "      <th>5</th>\n",
       "      <td>Brooklyn College of City University of New York</td>\n",
       "      <td>2</td>\n",
       "    </tr>\n",
       "    <tr>\n",
       "      <th>6</th>\n",
       "      <td>Shanghai Jiao Tong University</td>\n",
       "      <td>1</td>\n",
       "    </tr>\n",
       "    <tr>\n",
       "      <th>7</th>\n",
       "      <td>Michigan State University</td>\n",
       "      <td>1</td>\n",
       "    </tr>\n",
       "    <tr>\n",
       "      <th>8</th>\n",
       "      <td>University of Illinois</td>\n",
       "      <td>1</td>\n",
       "    </tr>\n",
       "    <tr>\n",
       "      <th>9</th>\n",
       "      <td>Cambridge University (England)</td>\n",
       "      <td>1</td>\n",
       "    </tr>\n",
       "    <tr>\n",
       "      <th>10</th>\n",
       "      <td>Hendrix College</td>\n",
       "      <td>1</td>\n",
       "    </tr>\n",
       "    <tr>\n",
       "      <th>11</th>\n",
       "      <td>University of California (Irvine)</td>\n",
       "      <td>1</td>\n",
       "    </tr>\n",
       "    <tr>\n",
       "      <th>12</th>\n",
       "      <td>University of Michigan (Ann Arbor)</td>\n",
       "      <td>1</td>\n",
       "    </tr>\n",
       "    <tr>\n",
       "      <th>13</th>\n",
       "      <td>Pomona College</td>\n",
       "      <td>1</td>\n",
       "    </tr>\n",
       "    <tr>\n",
       "      <th>14</th>\n",
       "      <td>University of Minnesota</td>\n",
       "      <td>1</td>\n",
       "    </tr>\n",
       "  </tbody>\n",
       "</table>\n",
       "</div>"
      ],
      "text/plain": [
       "                                         university  count\n",
       "0                                Harvard University      6\n",
       "1                             University of Chicago      4\n",
       "2               University of California (Berkeley)      4\n",
       "3             Massachusetts Institute of Technology      2\n",
       "4                          Johns Hopkins University      2\n",
       "5   Brooklyn College of City University of New York      2\n",
       "6                     Shanghai Jiao Tong University      1\n",
       "7                         Michigan State University      1\n",
       "8                            University of Illinois      1\n",
       "9                    Cambridge University (England)      1\n",
       "10                                  Hendrix College      1\n",
       "11                University of California (Irvine)      1\n",
       "12               University of Michigan (Ann Arbor)      1\n",
       "13                                   Pomona College      1\n",
       "14                          University of Minnesota      1"
      ]
     },
     "execution_count": 811,
     "metadata": {},
     "output_type": "execute_result"
    }
   ],
   "source": [
    "# colleges Math professors attended\n",
    "getUniversities(prof_df['colleges_clean'][prof_df['cleaned_dept'].apply(lambda x: findProfFromDept('Mathematics',x))],15)"
   ]
  },
  {
   "cell_type": "code",
   "execution_count": 812,
   "metadata": {},
   "outputs": [
    {
     "data": {
      "text/html": [
       "<div>\n",
       "<style scoped>\n",
       "    .dataframe tbody tr th:only-of-type {\n",
       "        vertical-align: middle;\n",
       "    }\n",
       "\n",
       "    .dataframe tbody tr th {\n",
       "        vertical-align: top;\n",
       "    }\n",
       "\n",
       "    .dataframe thead th {\n",
       "        text-align: right;\n",
       "    }\n",
       "</style>\n",
       "<table border=\"1\" class=\"dataframe\">\n",
       "  <thead>\n",
       "    <tr style=\"text-align: right;\">\n",
       "      <th></th>\n",
       "      <th>university</th>\n",
       "      <th>count</th>\n",
       "    </tr>\n",
       "  </thead>\n",
       "  <tbody>\n",
       "    <tr>\n",
       "      <th>0</th>\n",
       "      <td>Yale University</td>\n",
       "      <td>4</td>\n",
       "    </tr>\n",
       "    <tr>\n",
       "      <th>1</th>\n",
       "      <td>Wellesley College</td>\n",
       "      <td>2</td>\n",
       "    </tr>\n",
       "    <tr>\n",
       "      <th>2</th>\n",
       "      <td>New York University</td>\n",
       "      <td>2</td>\n",
       "    </tr>\n",
       "    <tr>\n",
       "      <th>3</th>\n",
       "      <td>Vassar College</td>\n",
       "      <td>2</td>\n",
       "    </tr>\n",
       "    <tr>\n",
       "      <th>4</th>\n",
       "      <td>Indiana University (Bloomington)</td>\n",
       "      <td>2</td>\n",
       "    </tr>\n",
       "    <tr>\n",
       "      <th>5</th>\n",
       "      <td>Wesleyan University</td>\n",
       "      <td>2</td>\n",
       "    </tr>\n",
       "    <tr>\n",
       "      <th>6</th>\n",
       "      <td>Princeton University</td>\n",
       "      <td>2</td>\n",
       "    </tr>\n",
       "    <tr>\n",
       "      <th>7</th>\n",
       "      <td>University of Wisconsin (Madison)</td>\n",
       "      <td>2</td>\n",
       "    </tr>\n",
       "    <tr>\n",
       "      <th>8</th>\n",
       "      <td>Maryland Institute College of Art</td>\n",
       "      <td>2</td>\n",
       "    </tr>\n",
       "    <tr>\n",
       "      <th>9</th>\n",
       "      <td>Hampshire College</td>\n",
       "      <td>1</td>\n",
       "    </tr>\n",
       "    <tr>\n",
       "      <th>10</th>\n",
       "      <td>Louisiana State University (Baton Rouge)</td>\n",
       "      <td>1</td>\n",
       "    </tr>\n",
       "    <tr>\n",
       "      <th>11</th>\n",
       "      <td>University of Texas (Austin)</td>\n",
       "      <td>1</td>\n",
       "    </tr>\n",
       "    <tr>\n",
       "      <th>12</th>\n",
       "      <td>University of California (Berkeley)</td>\n",
       "      <td>1</td>\n",
       "    </tr>\n",
       "    <tr>\n",
       "      <th>13</th>\n",
       "      <td>Ithaca College</td>\n",
       "      <td>1</td>\n",
       "    </tr>\n",
       "    <tr>\n",
       "      <th>14</th>\n",
       "      <td>Radcliffe College</td>\n",
       "      <td>1</td>\n",
       "    </tr>\n",
       "  </tbody>\n",
       "</table>\n",
       "</div>"
      ],
      "text/plain": [
       "                                  university  count\n",
       "0                            Yale University      4\n",
       "1                          Wellesley College      2\n",
       "2                        New York University      2\n",
       "3                             Vassar College      2\n",
       "4           Indiana University (Bloomington)      2\n",
       "5                        Wesleyan University      2\n",
       "6                       Princeton University      2\n",
       "7          University of Wisconsin (Madison)      2\n",
       "8          Maryland Institute College of Art      2\n",
       "9                          Hampshire College      1\n",
       "10  Louisiana State University (Baton Rouge)      1\n",
       "11              University of Texas (Austin)      1\n",
       "12       University of California (Berkeley)      1\n",
       "13                            Ithaca College      1\n",
       "14                         Radcliffe College      1"
      ]
     },
     "execution_count": 812,
     "metadata": {},
     "output_type": "execute_result"
    }
   ],
   "source": [
    "# colleges Art professors attended\n",
    "getUniversities(prof_df['colleges_clean'][prof_df['cleaned_dept'].apply(lambda x: findProfFromDept('Art',x))],15)"
   ]
  },
  {
   "cell_type": "code",
   "execution_count": 814,
   "metadata": {},
   "outputs": [
    {
     "data": {
      "text/html": [
       "<div>\n",
       "<style scoped>\n",
       "    .dataframe tbody tr th:only-of-type {\n",
       "        vertical-align: middle;\n",
       "    }\n",
       "\n",
       "    .dataframe tbody tr th {\n",
       "        vertical-align: top;\n",
       "    }\n",
       "\n",
       "    .dataframe thead th {\n",
       "        text-align: right;\n",
       "    }\n",
       "</style>\n",
       "<table border=\"1\" class=\"dataframe\">\n",
       "  <thead>\n",
       "    <tr style=\"text-align: right;\">\n",
       "      <th></th>\n",
       "      <th>university</th>\n",
       "      <th>count</th>\n",
       "    </tr>\n",
       "  </thead>\n",
       "  <tbody>\n",
       "    <tr>\n",
       "      <th>0</th>\n",
       "      <td>New England Conservatory of Music</td>\n",
       "      <td>15</td>\n",
       "    </tr>\n",
       "    <tr>\n",
       "      <th>1</th>\n",
       "      <td>Berklee College of Music</td>\n",
       "      <td>4</td>\n",
       "    </tr>\n",
       "    <tr>\n",
       "      <th>2</th>\n",
       "      <td>Eastman School of Music</td>\n",
       "      <td>3</td>\n",
       "    </tr>\n",
       "    <tr>\n",
       "      <th>3</th>\n",
       "      <td>New England Conservatory</td>\n",
       "      <td>3</td>\n",
       "    </tr>\n",
       "    <tr>\n",
       "      <th>4</th>\n",
       "      <td>University of Chicago</td>\n",
       "      <td>2</td>\n",
       "    </tr>\n",
       "    <tr>\n",
       "      <th>5</th>\n",
       "      <td>Oberlin College</td>\n",
       "      <td>2</td>\n",
       "    </tr>\n",
       "    <tr>\n",
       "      <th>6</th>\n",
       "      <td>University of California (Los Angeles)</td>\n",
       "      <td>2</td>\n",
       "    </tr>\n",
       "    <tr>\n",
       "      <th>7</th>\n",
       "      <td>Boston University</td>\n",
       "      <td>2</td>\n",
       "    </tr>\n",
       "    <tr>\n",
       "      <th>8</th>\n",
       "      <td>Yale University</td>\n",
       "      <td>2</td>\n",
       "    </tr>\n",
       "    <tr>\n",
       "      <th>9</th>\n",
       "      <td>Oberlin College and Oberlin Conservatory of Music</td>\n",
       "      <td>2</td>\n",
       "    </tr>\n",
       "  </tbody>\n",
       "</table>\n",
       "</div>"
      ],
      "text/plain": [
       "                                          university  count\n",
       "0                  New England Conservatory of Music     15\n",
       "1                           Berklee College of Music      4\n",
       "2                            Eastman School of Music      3\n",
       "3                           New England Conservatory      3\n",
       "4                              University of Chicago      2\n",
       "5                                    Oberlin College      2\n",
       "6             University of California (Los Angeles)      2\n",
       "7                                  Boston University      2\n",
       "8                                    Yale University      2\n",
       "9  Oberlin College and Oberlin Conservatory of Music      2"
      ]
     },
     "execution_count": 814,
     "metadata": {},
     "output_type": "execute_result"
    }
   ],
   "source": [
    "# colleges music faculty attended\n",
    "getUniversities(prof_df['colleges_clean'][prof_df['cleaned_dept'].apply(lambda x: findProfFromDept('Music',x))],10)"
   ]
  },
  {
   "cell_type": "markdown",
   "metadata": {},
   "source": [
    "Looking through the different departments we see that the colleges faculty members attended vary by department. However, our dataset as whole is not large (451 entries) making it hard to draw conclusions if there are multiple professors in a department who are the sole individuals attending a particular institution. \n",
    "\n",
    "\n",
    "However looking at the general trend, we can see that most professors stayed on the east coast for their studies before subsequently coming to Wellesley College."
   ]
  },
  {
   "cell_type": "markdown",
   "metadata": {},
   "source": [
    "## 6. Researching Universities\n",
    "Faculty members have visited multiple instutions accross the world. Some are very famous, while others are not. Nevertheless we are intererested in finding out more about these institutions, such as their locations and a bit more. "
   ]
  },
  {
   "cell_type": "code",
   "execution_count": 832,
   "metadata": {},
   "outputs": [],
   "source": [
    "# use universities package which searches a college database for information on colleges\n",
    "import universities\n",
    "uni = universities.API() "
   ]
  },
  {
   "cell_type": "code",
   "execution_count": 839,
   "metadata": {},
   "outputs": [],
   "source": [
    "wellesley = uni.search(name='Wellesley College')"
   ]
  },
  {
   "cell_type": "code",
   "execution_count": 840,
   "metadata": {},
   "outputs": [
    {
     "name": "stdout",
     "output_type": "stream",
     "text": [
      "Name: Wellesley College\n",
      "Country: United States\n",
      "Domains:\n",
      " - wellesley.edu\n",
      "Web Pages:\n",
      " - http://www.wellesley.edu/\n",
      "\n"
     ]
    }
   ],
   "source": [
    "for institution in wellesley:\n",
    "    print(institution)"
   ]
  },
  {
   "cell_type": "code",
   "execution_count": 841,
   "metadata": {},
   "outputs": [
    {
     "name": "stdout",
     "output_type": "stream",
     "text": [
      "Name: German University in Cairo\n",
      "Country: Egypt\n",
      "Domains:\n",
      " - guc.edu.eg\n",
      "Web Pages:\n",
      " - http://www.guc.edu.eg/\n",
      "\n"
     ]
    }
   ],
   "source": [
    "# check out a different institution\n",
    "exampleUni = uni.search(name='German University in Cairo')\n",
    "for institution in exampleUni:\n",
    "    print(institution) "
   ]
  },
  {
   "cell_type": "code",
   "execution_count": null,
   "metadata": {},
   "outputs": [],
   "source": []
  }
 ],
 "metadata": {
  "kernelspec": {
   "display_name": "Python 3",
   "language": "python",
   "name": "python3"
  },
  "language_info": {
   "codemirror_mode": {
    "name": "ipython",
    "version": 3
   },
   "file_extension": ".py",
   "mimetype": "text/x-python",
   "name": "python",
   "nbconvert_exporter": "python",
   "pygments_lexer": "ipython3",
   "version": "3.7.6"
  }
 },
 "nbformat": 4,
 "nbformat_minor": 4
}
